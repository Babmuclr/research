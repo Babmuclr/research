{
 "cells": [
  {
   "cell_type": "code",
   "execution_count": 29,
   "metadata": {},
   "outputs": [],
   "source": [
    "import numpy as np \n",
    "import pandas as pd \n",
    "import matplotlib.pyplot as plt "
   ]
  },
  {
   "cell_type": "code",
   "execution_count": 30,
   "metadata": {},
   "outputs": [],
   "source": [
    "with open(\"./human_baseline.txt\", mode=\"r\") as f:\n",
    "    human_baseline = f.readlines()\n",
    "human_baseline = list(map(lambda x: float(x.replace(\"\\n\", \"\")), human_baseline))\n",
    "with open(\"./human_baseline_link.txt\", mode=\"r\") as f:\n",
    "    human_baseline_link = f.readlines()\n",
    "human_baseline_link = list(map(lambda x: float(x.replace(\"\\n\", \"\")), human_baseline_link))\n",
    "with open(\"./human_baseline_link_strong.txt\", mode=\"r\") as f:\n",
    "    human_baseline_link_strong = f.readlines()\n",
    "human_baseline_link_strong = list(map(lambda x: float(x.replace(\"\\n\", \"\")), human_baseline_link_strong))\n",
    "with open(\"./human_baseline_link_stronger.txt\", mode=\"r\") as f:\n",
    "    human_baseline_link_stronger = f.readlines()\n",
    "human_baseline_link_stronger = list(map(lambda x: float(x.replace(\"\\n\", \"\")), human_baseline_link_stronger))\n",
    "with open(\"./human_baseline_link_nolimit.txt\", mode=\"r\") as f:\n",
    "    human_baseline_link_nolimit = f.readlines()\n",
    "human_baseline_link_nolimit = list(map(lambda x: float(x.replace(\"\\n\", \"\")), human_baseline_link_nolimit))\n",
    "with open(\"./human_baseline_link_freq.txt\", mode=\"r\") as f:\n",
    "    human_baseline_link_freq = f.readlines()\n",
    "human_baseline_link_freq = list(map(lambda x: float(x.replace(\"\\n\", \"\")), human_baseline_link_freq))\n",
    "with open(\"./human_baseline_link_freq2.txt\", mode=\"r\") as f:\n",
    "    human_baseline_link_freq2 = f.readlines()\n",
    "human_baseline_link_freq2 = list(map(lambda x: float(x.replace(\"\\n\", \"\")), human_baseline_link_freq2))"
   ]
  },
  {
   "cell_type": "code",
   "execution_count": 31,
   "metadata": {},
   "outputs": [],
   "source": [
    "with open(\"./human_propose.txt\", mode=\"r\") as f:\n",
    "    human_propose = f.readlines()\n",
    "human_propose = list(map(lambda x: float(x.replace(\"\\n\", \"\")), human_propose))\n",
    "with open(\"./human_propose_link.txt\", mode=\"r\") as f:\n",
    "    human_propose_link = f.readlines()\n",
    "human_propose_link = list(map(lambda x: float(x.replace(\"\\n\", \"\")), human_propose_link))\n",
    "with open(\"./human_propose_link_strong.txt\", mode=\"r\") as f:\n",
    "    human_propose_link_strong = f.readlines()\n",
    "human_propose_link_strong = list(map(lambda x: float(x.replace(\"\\n\", \"\")), human_propose_link_strong))\n",
    "with open(\"./human_propose_link_stronger.txt\", mode=\"r\") as f:\n",
    "    human_propose_link_stronger = f.readlines()\n",
    "human_propose_link_stronger = list(map(lambda x: float(x.replace(\"\\n\", \"\")), human_propose_link_stronger))\n",
    "with open(\"./human_propose_link_nolimit.txt\", mode=\"r\") as f:\n",
    "    human_propose_link_nolimit = f.readlines()\n",
    "human_propose_link_nolimit = list(map(lambda x: float(x.replace(\"\\n\", \"\")), human_propose_link_nolimit))\n",
    "with open(\"./human_propose_link_freq.txt\", mode=\"r\") as f:\n",
    "    human_propose_link_freq = f.readlines()\n",
    "human_propose_link_freq = list(map(lambda x: float(x.replace(\"\\n\", \"\")), human_propose_link_freq))\n",
    "with open(\"./human_propose_link_freq2.txt\", mode=\"r\") as f:\n",
    "    human_propose_link_freq2 = f.readlines()\n",
    "human_propose_link_freq2 = list(map(lambda x: float(x.replace(\"\\n\", \"\")), human_propose_link_freq2))"
   ]
  },
  {
   "cell_type": "code",
   "execution_count": 32,
   "metadata": {},
   "outputs": [],
   "source": [
    "with open(\"./celegans_baseline.txt\", mode=\"r\") as f:\n",
    "    celegans_baseline = f.readlines()\n",
    "celegans_baseline = list(map(lambda x: float(x.replace(\"\\n\", \"\")), celegans_baseline))\n",
    "with open(\"./celegans_baseline_link.txt\", mode=\"r\") as f:\n",
    "    celegans_baseline_link = f.readlines()\n",
    "celegans_baseline_link = list(map(lambda x: float(x.replace(\"\\n\", \"\")), celegans_baseline_link))\n",
    "with open(\"./celegans_baseline_link_strong.txt\", mode=\"r\") as f:\n",
    "    celegans_baseline_link_strong = f.readlines()\n",
    "celegans_baseline_link_strong = list(map(lambda x: float(x.replace(\"\\n\", \"\")), celegans_baseline_link_strong))\n",
    "with open(\"./celegans_baseline_link_stronger.txt\", mode=\"r\") as f:\n",
    "    celegans_baseline_link_stronger = f.readlines()\n",
    "celegans_baseline_link_stronger = list(map(lambda x: float(x.replace(\"\\n\", \"\")), celegans_baseline_link_stronger))\n",
    "with open(\"./celegans_baseline_link_nolimit.txt\", mode=\"r\") as f:\n",
    "    celegans_baseline_link_nolimit = f.readlines()\n",
    "celegans_baseline_link_nolimit = list(map(lambda x: float(x.replace(\"\\n\", \"\")), celegans_baseline_link_nolimit))\n",
    "with open(\"./celegans_baseline_link_freq.txt\", mode=\"r\") as f:\n",
    "    celegans_baseline_link_freq = f.readlines()\n",
    "celegans_baseline_link_freq = list(map(lambda x: float(x.replace(\"\\n\", \"\")), celegans_baseline_link_freq))\n",
    "with open(\"./celegans_baseline_link_freq2.txt\", mode=\"r\") as f:\n",
    "    celegans_baseline_link_freq2 = f.readlines()\n",
    "celegans_baseline_link_freq2 = list(map(lambda x: float(x.replace(\"\\n\", \"\")), celegans_baseline_link_freq2))"
   ]
  },
  {
   "cell_type": "code",
   "execution_count": 34,
   "metadata": {},
   "outputs": [],
   "source": [
    "with open(\"./celegans_propose.txt\", mode=\"r\") as f:\n",
    "    celegans_propose = f.readlines()\n",
    "celegans_propose = list(map(lambda x: float(x.replace(\"\\n\", \"\")), celegans_propose))\n",
    "with open(\"./celegans_propose_link.txt\", mode=\"r\") as f:\n",
    "    celegans_propose_link = f.readlines()\n",
    "celegans_propose_link = list(map(lambda x: float(x.replace(\"\\n\", \"\")), celegans_propose_link))\n",
    "with open(\"./celegans_propose_link_strong.txt\", mode=\"r\") as f:\n",
    "    celegans_propose_link_strong = f.readlines()\n",
    "celegans_propose_link_strong = list(map(lambda x: float(x.replace(\"\\n\", \"\")), celegans_propose_link_strong))\n",
    "with open(\"./celegans_propose_link_stronger.txt\", mode=\"r\") as f:\n",
    "    celegans_propose_link_stronger = f.readlines()\n",
    "celegans_propose_link_stronger = list(map(lambda x: float(x.replace(\"\\n\", \"\")), celegans_propose_link_stronger))\n",
    "with open(\"./celegans_propose_link_nolimit.txt\", mode=\"r\") as f:\n",
    "    celegans_propose_link_nolimit = f.readlines()\n",
    "celegans_propose_link_nolimit = list(map(lambda x: float(x.replace(\"\\n\", \"\")), celegans_propose_link_nolimit))\n",
    "with open(\"./celegans_propose_link_freq.txt\", mode=\"r\") as f:\n",
    "    celegans_propose_link_freq = f.readlines()\n",
    "celegans_propose_link_freq = list(map(lambda x: float(x.replace(\"\\n\", \"\")), celegans_propose_link_freq))\n",
    "with open(\"./celegans_propose_link_freq2.txt\", mode=\"r\") as f:\n",
    "    celegans_propose_link_freq2 = f.readlines()\n",
    "celegans_propose_link_freq2 = list(map(lambda x: float(x.replace(\"\\n\", \"\")), celegans_propose_link_freq2))"
   ]
  },
  {
   "cell_type": "code",
   "execution_count": 35,
   "metadata": {},
   "outputs": [
    {
     "data": {
      "image/png": "[encoded data removed]",
      "text/plain": [
       "<Figure size 432x288 with 1 Axes>"
      ]
     },
     "metadata": {},
     "output_type": "display_data"
    }
   ],
   "source": [
    "labels = ['human', \"celegan\"]\n",
    "baselines = [np.mean(human_baseline), np.mean(celegans_baseline)]\n",
    "baselines_stds = [np.std(human_baseline), np.std(celegans_baseline)]\n",
    "\n",
    "proposes = [np.mean(human_propose), np.mean(celegans_propose)]\n",
    "proposes_stds = [np.std(human_propose), np.std(celegans_propose)]\n",
    "\n",
    " \n",
    "left = np.arange(len(labels))\n",
    " \n",
    "width = 0.3\n",
    "fig, ax = plt.subplots()\n",
    "\n",
    "fig.patch.set_facecolor('white')\n",
    "\n",
    "ax.bar(left - width / 2, baselines, yerr=baselines_stds, ecolor='black', capsize=3, width=width, linewidth=1, edgecolor=\"#000000\", label=\"baseline\")\n",
    "ax.bar(left + width / 2, proposes, yerr=proposes_stds, ecolor='black', capsize=3, width=width, linewidth=1, edgecolor=\"#000000\", label=\"propose\")\n",
    "\n",
    "# Add some text for labels, title and custom x-axis tick labels, etc.\n",
    "ax.set_ylabel('AUC')\n",
    "ax.set_title('Each Compound Scores')\n",
    "ax.set_xticks(left)\n",
    "ax.set_xticklabels(labels)\n",
    "ax.set_ylim(0.8,1)\n",
    "ax.legend()\n",
    "plt.show()\n",
    "# fig.savefig(\"result_compound.png\")"
   ]
  },
  {
   "cell_type": "code",
   "execution_count": 36,
   "metadata": {},
   "outputs": [
    {
     "data": {
      "text/plain": [
       "(0.883608676268445,\n",
       " 0.9134008230549472,\n",
       " 0.02439909284171347,\n",
       " 0.01798313831427932)"
      ]
     },
     "execution_count": 36,
     "metadata": {},
     "output_type": "execute_result"
    }
   ],
   "source": [
    "np.mean(human_baseline), np.mean(celegans_baseline), np.std(human_baseline), np.std(celegans_baseline)"
   ]
  },
  {
   "cell_type": "code",
   "execution_count": 37,
   "metadata": {},
   "outputs": [
    {
     "data": {
      "text/plain": [
       "(0.8838697087549786,\n",
       " 0.9108950132069649,\n",
       " 0.020153990459213577,\n",
       " 0.02184671873703609)"
      ]
     },
     "execution_count": 37,
     "metadata": {},
     "output_type": "execute_result"
    }
   ],
   "source": [
    "np.mean(human_propose), np.mean(celegans_propose), np.std(human_propose), np.std(celegans_propose)"
   ]
  },
  {
   "cell_type": "code",
   "execution_count": 38,
   "metadata": {},
   "outputs": [
    {
     "data": {
      "image/png": "[encoded data removed]",
      "text/plain": [
       "<Figure size 432x288 with 1 Axes>"
      ]
     },
     "metadata": {},
     "output_type": "display_data"
    }
   ],
   "source": [
    "labels = ['human', \"celegan\"]\n",
    "baselines_link = [np.mean(human_baseline_link), np.mean(celegans_baseline_link)]\n",
    "baselines_link_stds = [np.std(human_baseline_link), np.std(celegans_baseline_link)]\n",
    "\n",
    "proposes_link = [np.mean(human_propose_link), np.mean(celegans_propose_link)]\n",
    "proposes_link_stds = [np.std(human_propose_link), np.std(celegans_propose_link)]\n",
    "\n",
    " \n",
    "left = np.arange(len(labels))\n",
    " \n",
    "width = 0.3\n",
    "fig, ax = plt.subplots()\n",
    "\n",
    "fig.patch.set_facecolor('white')\n",
    "\n",
    "ax.bar(left - width / 2, baselines_link, yerr=baselines_link_stds, ecolor='black', capsize=3, width=width, linewidth=1, edgecolor=\"#000000\", label=\"baseline\")\n",
    "ax.bar(left + width / 2, proposes_link, yerr=proposes_link_stds, ecolor='black', capsize=3, width=width, linewidth=1, edgecolor=\"#000000\", label=\"propose\")\n",
    "\n",
    "# Add some text for labels, title and custom x-axis tick labels, etc.\n",
    "ax.set_ylabel('AUC')\n",
    "ax.set_title('Each Link Scores')\n",
    "ax.set_xticks(left)\n",
    "ax.set_xticklabels(labels)\n",
    "ax.set_ylim(0.8,1)\n",
    "ax.legend()\n",
    "plt.show()"
   ]
  },
  {
   "cell_type": "code",
   "execution_count": 39,
   "metadata": {},
   "outputs": [
    {
     "data": {
      "text/plain": [
       "(0.8816823909936535,\n",
       " 0.904489412594026,\n",
       " 0.014405491000175907,\n",
       " 0.017220063389153016)"
      ]
     },
     "execution_count": 39,
     "metadata": {},
     "output_type": "execute_result"
    }
   ],
   "source": [
    "np.mean(human_baseline_link), np.mean(celegans_baseline_link), np.std(human_baseline_link), np.std(celegans_baseline_link)"
   ]
  },
  {
   "cell_type": "code",
   "execution_count": 40,
   "metadata": {},
   "outputs": [
    {
     "data": {
      "text/plain": [
       "(0.8822691423530611,\n",
       " 0.9059061580668154,\n",
       " 0.013690545156195893,\n",
       " 0.01833137581130434)"
      ]
     },
     "execution_count": 40,
     "metadata": {},
     "output_type": "execute_result"
    }
   ],
   "source": [
    "np.mean(human_propose_link), np.mean(celegans_propose_link), np.std(human_propose_link), np.std(celegans_propose_link)\n"
   ]
  },
  {
   "cell_type": "code",
   "execution_count": 41,
   "metadata": {},
   "outputs": [
    {
     "data": {
      "image/png": "[encoded data removed]",
      "text/plain": [
       "<Figure size 432x288 with 1 Axes>"
      ]
     },
     "metadata": {},
     "output_type": "display_data"
    }
   ],
   "source": [
    "labels = ['human', \"celegan\"]\n",
    "baselines_link_strong = [np.mean(human_baseline_link_strong), np.mean(celegans_baseline_link_strong)]\n",
    "baselines_link_strong_stds = [np.std(human_baseline_link_strong), np.std(celegans_baseline_link_strong)]\n",
    "\n",
    "proposes_link_strong = [np.mean(human_propose_link_strong), np.mean(celegans_propose_link_strong)]\n",
    "proposes_link_strong_stds = [np.std(human_propose_link_strong), np.std(celegans_propose_link_strong)]\n",
    "\n",
    " \n",
    "left = np.arange(len(labels))\n",
    " \n",
    "width = 0.3\n",
    "fig, ax = plt.subplots()\n",
    "\n",
    "fig.patch.set_facecolor('white')\n",
    "\n",
    "ax.bar(left - width / 2, baselines_link_strong, yerr=baselines_link_strong_stds, ecolor='black', capsize=3, width=width, linewidth=1, edgecolor=\"#000000\", label=\"baseline\")\n",
    "ax.bar(left + width / 2, proposes_link_strong, yerr=proposes_link_strong_stds, ecolor='black', capsize=3, width=width, linewidth=1, edgecolor=\"#000000\", label=\"propose\")\n",
    "\n",
    "# Add some text for labels, title and custom x-axis tick labels, etc.\n",
    "ax.set_ylabel('AUC')\n",
    "ax.set_title('Each Link Bias Strong Scores')\n",
    "ax.set_xticks(left)\n",
    "ax.set_xticklabels(labels)\n",
    "ax.set_ylim(0.8,1)\n",
    "ax.legend()\n",
    "plt.show()\n",
    "fig.savefig(\"result_link_strong.png\")"
   ]
  },
  {
   "cell_type": "code",
   "execution_count": 42,
   "metadata": {},
   "outputs": [
    {
     "data": {
      "text/plain": [
       "(0.8415808289101097,\n",
       " 0.8620301317184197,\n",
       " 0.017414490344243562,\n",
       " 0.021853512402210812)"
      ]
     },
     "execution_count": 42,
     "metadata": {},
     "output_type": "execute_result"
    }
   ],
   "source": [
    "np.mean(human_baseline_link_strong), np.mean(celegans_baseline_link_strong), np.std(human_baseline_link_strong), np.std(celegans_baseline_link_strong)"
   ]
  },
  {
   "cell_type": "code",
   "execution_count": 43,
   "metadata": {},
   "outputs": [
    {
     "data": {
      "text/plain": [
       "(0.8420237830259335,\n",
       " 0.8621911324654933,\n",
       " 0.016511891644250983,\n",
       " 0.02052784354075151)"
      ]
     },
     "execution_count": 43,
     "metadata": {},
     "output_type": "execute_result"
    }
   ],
   "source": [
    "np.mean(human_propose_link_strong), np.mean(celegans_propose_link_strong), np.std(human_propose_link_strong), np.std(celegans_propose_link_strong)\n"
   ]
  },
  {
   "cell_type": "code",
   "execution_count": 44,
   "metadata": {},
   "outputs": [
    {
     "data": {
      "image/png": "[encoded data removed]",
      "text/plain": [
       "<Figure size 432x288 with 1 Axes>"
      ]
     },
     "metadata": {},
     "output_type": "display_data"
    }
   ],
   "source": [
    "labels = ['human', \"celegan\"]\n",
    "baselines_link_nolimit = [np.mean(human_baseline_link_nolimit), np.mean(celegans_baseline_link_nolimit)]\n",
    "baselines_link_nolimit_stds = [np.std(human_baseline_link_nolimit), np.std(celegans_baseline_link_nolimit)]\n",
    "\n",
    "proposes_link_nolimit = [np.mean(human_propose_link_nolimit), np.mean(celegans_propose_link_nolimit)]\n",
    "proposes_link_nolimit_stds = [np.std(human_propose_link_nolimit), np.std(celegans_propose_link_nolimit)]\n",
    "\n",
    " \n",
    "left = np.arange(len(labels))\n",
    " \n",
    "width = 0.3\n",
    "fig, ax = plt.subplots()\n",
    "\n",
    "fig.patch.set_facecolor('white')\n",
    "\n",
    "ax.bar(left - width / 2, baselines_link_nolimit, yerr=baselines_link_nolimit_stds, ecolor='black', capsize=3, width=width, linewidth=1, edgecolor=\"#000000\", label=\"baseline\")\n",
    "ax.bar(left + width / 2, proposes_link_nolimit, yerr=proposes_link_nolimit_stds, ecolor='black', capsize=3, width=width, linewidth=1, edgecolor=\"#000000\", label=\"propose\")\n",
    "\n",
    "# Add some text for labels, title and custom x-axis tick labels, etc.\n",
    "ax.set_ylabel('AUC')\n",
    "ax.set_title('Each Link Bias Nolimit Scores')\n",
    "ax.set_xticks(left)\n",
    "ax.set_xticklabels(labels)\n",
    "ax.set_ylim(0.8,1)\n",
    "ax.legend()\n",
    "plt.show()\n",
    "fig.savefig(\"result_link_nolimit.png\")\n"
   ]
  },
  {
   "cell_type": "code",
   "execution_count": 45,
   "metadata": {},
   "outputs": [
    {
     "data": {
      "text/plain": [
       "(0.8800115130729121,\n",
       " 0.9101812802025746,\n",
       " 0.015116759371625807,\n",
       " 0.014387020211681192)"
      ]
     },
     "execution_count": 45,
     "metadata": {},
     "output_type": "execute_result"
    }
   ],
   "source": [
    "np.mean(human_baseline_link_nolimit), np.mean(celegans_baseline_link_nolimit), np.std(human_baseline_link_nolimit), np.std(celegans_baseline_link_nolimit)"
   ]
  },
  {
   "cell_type": "code",
   "execution_count": 46,
   "metadata": {},
   "outputs": [
    {
     "data": {
      "text/plain": [
       "(0.8796144967956485,\n",
       " 0.9085253104343838,\n",
       " 0.01523294241960021,\n",
       " 0.015079624962815431)"
      ]
     },
     "execution_count": 46,
     "metadata": {},
     "output_type": "execute_result"
    }
   ],
   "source": [
    "np.mean(human_propose_link_nolimit), np.mean(celegans_propose_link_nolimit), np.std(human_propose_link_nolimit), np.std(celegans_propose_link_nolimit)\n"
   ]
  },
  {
   "cell_type": "code",
   "execution_count": 47,
   "metadata": {},
   "outputs": [
    {
     "data": {
      "image/png": "[encoded data removed]",
      "text/plain": [
       "<Figure size 432x288 with 1 Axes>"
      ]
     },
     "metadata": {},
     "output_type": "display_data"
    }
   ],
   "source": [
    "labels = ['human', \"celegan\"]\n",
    "baselines_link_stronger = [np.mean(human_baseline_link_stronger), np.mean(celegans_baseline_link_stronger)]\n",
    "baselines_link_stronger_stds = [np.std(human_baseline_link_stronger), np.std(celegans_baseline_link_stronger)]\n",
    "\n",
    "proposes_link_stronger = [np.mean(human_propose_link_stronger), np.mean(celegans_propose_link_stronger)]\n",
    "proposes_link_stronger_stds = [np.std(human_propose_link_stronger), np.std(celegans_propose_link_stronger)]\n",
    "\n",
    " \n",
    "left = np.arange(len(labels))\n",
    " \n",
    "width = 0.3\n",
    "fig, ax = plt.subplots()\n",
    "\n",
    "fig.patch.set_facecolor('white')\n",
    "\n",
    "ax.bar(left - width / 2, baselines_link_stronger, yerr=baselines_link_stronger_stds, ecolor='black', capsize=3, width=width, linewidth=1, edgecolor=\"#000000\", label=\"baseline\")\n",
    "ax.bar(left + width / 2, proposes_link_stronger, yerr=proposes_link_stronger_stds, ecolor='black', capsize=3, width=width, linewidth=1, edgecolor=\"#000000\", label=\"propose\")\n",
    "\n",
    "# Add some text for labels, title and custom x-axis tick labels, etc.\n",
    "ax.set_ylabel('AUC')\n",
    "ax.set_title('Each Link Bias Stronger Scores')\n",
    "ax.set_xticks(left)\n",
    "ax.set_xticklabels(labels)\n",
    "ax.set_ylim(0.65,0.85)\n",
    "ax.legend()\n",
    "plt.show()\n",
    "# fig.savefig(\"result_link_stronger.png\")"
   ]
  },
  {
   "cell_type": "code",
   "execution_count": 48,
   "metadata": {},
   "outputs": [
    {
     "data": {
      "text/plain": [
       "(0.7320693243212013,\n",
       " 0.7861175872267581,\n",
       " 0.059128758689730346,\n",
       " 0.050087756054224906)"
      ]
     },
     "execution_count": 48,
     "metadata": {},
     "output_type": "execute_result"
    }
   ],
   "source": [
    "np.mean(human_baseline_link_stronger), np.mean(celegans_baseline_link_stronger), np.std(human_baseline_link_stronger), np.std(celegans_baseline_link_stronger)"
   ]
  },
  {
   "cell_type": "code",
   "execution_count": 49,
   "metadata": {},
   "outputs": [
    {
     "data": {
      "text/plain": [
       "(0.7340389793901844,\n",
       " 0.7878454824346293,\n",
       " 0.057701717299418996,\n",
       " 0.04626519748808583)"
      ]
     },
     "execution_count": 49,
     "metadata": {},
     "output_type": "execute_result"
    }
   ],
   "source": [
    "np.mean(human_propose_link_stronger), np.mean(celegans_propose_link_stronger), np.std(human_propose_link_stronger), np.std(celegans_propose_link_stronger)\n"
   ]
  },
  {
   "cell_type": "code",
   "execution_count": 51,
   "metadata": {},
   "outputs": [
    {
     "data": {
      "image/png": "[encoded data removed]",
      "text/plain": [
       "<Figure size 432x288 with 1 Axes>"
      ]
     },
     "metadata": {},
     "output_type": "display_data"
    }
   ],
   "source": [
    "labels = ['human', \"celegan\"]\n",
    "baselines_link_freq = [np.mean(human_baseline_link_freq), np.mean(celegans_baseline_link_freq)]\n",
    "baselines_link_freq_stds = [np.std(human_baseline_link_freq), np.std(celegans_baseline_link_freq)]\n",
    "\n",
    "proposes_link_freq = [np.mean(human_propose_link_freq), np.mean(celegans_propose_link_freq)]\n",
    "proposes_link_freq_stds = [np.std(human_propose_link_freq), np.std(celegans_propose_link_freq)]\n",
    "\n",
    " \n",
    "left = np.arange(len(labels))\n",
    " \n",
    "width = 0.3\n",
    "fig, ax = plt.subplots()\n",
    "\n",
    "fig.patch.set_facecolor('white')\n",
    "\n",
    "ax.bar(left - width / 2, baselines_link_freq, yerr=baselines_link_freq_stds, ecolor='black', capsize=3, width=width, linewidth=1, edgecolor=\"#000000\", label=\"baseline\")\n",
    "ax.bar(left + width / 2, proposes_link_freq, yerr=proposes_link_freq_stds, ecolor='black', capsize=3, width=width, linewidth=1, edgecolor=\"#000000\", label=\"propose\")\n",
    "\n",
    "# Add some text for labels, title and custom x-axis tick labels, etc.\n",
    "ax.set_ylabel('AUC')\n",
    "ax.set_title('Each Link Bias Stronger Scores')\n",
    "ax.set_xticks(left)\n",
    "ax.set_xticklabels(labels)\n",
    "ax.set_ylim(0.5,1.0)\n",
    "ax.legend()\n",
    "plt.show()\n",
    "# fig.savefig(\"result_link_freq.png\")"
   ]
  },
  {
   "cell_type": "code",
   "execution_count": null,
   "metadata": {},
   "outputs": [],
   "source": []
  },
  {
   "cell_type": "code",
   "execution_count": null,
   "metadata": {},
   "outputs": [],
   "source": []
  },
  {
   "cell_type": "code",
   "execution_count": null,
   "metadata": {},
   "outputs": [],
   "source": []
  }
 ],
 "metadata": {
  "interpreter": {
   "hash": "8d396b96c37022cc03b590fb7e0f59e9625b1a542a0cf65b03ce3992dff67545"
  },
  "kernelspec": {
   "display_name": "Python 3.9.7 64-bit ('compound': conda)",
   "language": "python",
   "name": "python3"
  },
  "language_info": {
   "codemirror_mode": {
    "name": "ipython",
    "version": 3
   },
   "file_extension": ".py",
   "mimetype": "text/x-python",
   "name": "python",
   "nbconvert_exporter": "python",
   "pygments_lexer": "ipython3",
   "version": "3.9.7"
  },
  "orig_nbformat": 4
 },
 "nbformat": 4,
 "nbformat_minor": 2
}
