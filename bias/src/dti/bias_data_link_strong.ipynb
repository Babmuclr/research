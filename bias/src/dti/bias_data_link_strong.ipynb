{
 "cells": [
  {
   "cell_type": "markdown",
   "metadata": {},
   "source": [
    "# バイアス付きのデータを作成する"
   ]
  },
  {
   "cell_type": "code",
   "execution_count": 1,
   "metadata": {},
   "outputs": [],
   "source": [
    "import numpy as np \n",
    "import pandas as pd\n",
    "import os \n",
    "import matplotlib.pyplot as plt "
   ]
  },
  {
   "cell_type": "code",
   "execution_count": 2,
   "metadata": {},
   "outputs": [],
   "source": [
    "# dataset\n",
    "dataset_name = \"human\"\n",
    "# dataset_name = \"celegans\""
   ]
  },
  {
   "cell_type": "code",
   "execution_count": 3,
   "metadata": {},
   "outputs": [
    {
     "data": {
      "text/html": [
       "<div>\n",
       "<style scoped>\n",
       "    .dataframe tbody tr th:only-of-type {\n",
       "        vertical-align: middle;\n",
       "    }\n",
       "\n",
       "    .dataframe tbody tr th {\n",
       "        vertical-align: top;\n",
       "    }\n",
       "\n",
       "    .dataframe thead th {\n",
       "        text-align: right;\n",
       "    }\n",
       "</style>\n",
       "<table border=\"1\" class=\"dataframe\">\n",
       "  <thead>\n",
       "    <tr style=\"text-align: right;\">\n",
       "      <th></th>\n",
       "      <th>compound</th>\n",
       "      <th>protein</th>\n",
       "      <th>label</th>\n",
       "    </tr>\n",
       "  </thead>\n",
       "  <tbody>\n",
       "    <tr>\n",
       "      <th>0</th>\n",
       "      <td>CC[C@@]1(C[C@@H]2C3=CC(=C(C=C3CCN2C[C@H]1CC(C)...</td>\n",
       "      <td>MSPLNQSAEGLPQEASNRSLNATETSEAWDPRTLQALKISLAVVLS...</td>\n",
       "      <td>0</td>\n",
       "    </tr>\n",
       "    <tr>\n",
       "      <th>1</th>\n",
       "      <td>C1COCCO1</td>\n",
       "      <td>MSTSSLRRQMKNIVHNYSEAEIKVREATSNDPWGPSSSLMSEIADL...</td>\n",
       "      <td>1</td>\n",
       "    </tr>\n",
       "    <tr>\n",
       "      <th>2</th>\n",
       "      <td>CCCC(=O)C1=CN=CC=C1</td>\n",
       "      <td>MAGAGPKRRALAAPAAEEKEEAREKMLAAKSADGSAPAGEGEGVTL...</td>\n",
       "      <td>0</td>\n",
       "    </tr>\n",
       "    <tr>\n",
       "      <th>3</th>\n",
       "      <td>CCN[C@H]1CN(S(=O)(=O)C2=C1C=C(S2)S(=O)(=O)N)CCCOC</td>\n",
       "      <td>MVVMNSLRVILQASPGKLLWRKFQIPRFMPARPCSLYTCTYKTRNR...</td>\n",
       "      <td>1</td>\n",
       "    </tr>\n",
       "    <tr>\n",
       "      <th>4</th>\n",
       "      <td>C[C@H](C[C@@H](C(=O)O)N)C(=O)O</td>\n",
       "      <td>MKLKLKNVFLAYFLVSIAGLLYALVQLGQPCDCLPPLRAAAEQLRQ...</td>\n",
       "      <td>0</td>\n",
       "    </tr>\n",
       "  </tbody>\n",
       "</table>\n",
       "</div>"
      ],
      "text/plain": [
       "                                            compound  \\\n",
       "0  CC[C@@]1(C[C@@H]2C3=CC(=C(C=C3CCN2C[C@H]1CC(C)...   \n",
       "1                                           C1COCCO1   \n",
       "2                                CCCC(=O)C1=CN=CC=C1   \n",
       "3  CCN[C@H]1CN(S(=O)(=O)C2=C1C=C(S2)S(=O)(=O)N)CCCOC   \n",
       "4                     C[C@H](C[C@@H](C(=O)O)N)C(=O)O   \n",
       "\n",
       "                                             protein  label  \n",
       "0  MSPLNQSAEGLPQEASNRSLNATETSEAWDPRTLQALKISLAVVLS...      0  \n",
       "1  MSTSSLRRQMKNIVHNYSEAEIKVREATSNDPWGPSSSLMSEIADL...      1  \n",
       "2  MAGAGPKRRALAAPAAEEKEEAREKMLAAKSADGSAPAGEGEGVTL...      0  \n",
       "3  MVVMNSLRVILQASPGKLLWRKFQIPRFMPARPCSLYTCTYKTRNR...      1  \n",
       "4  MKLKLKNVFLAYFLVSIAGLLYALVQLGQPCDCLPPLRAAAEQLRQ...      0  "
      ]
     },
     "execution_count": 3,
     "metadata": {},
     "output_type": "execute_result"
    }
   ],
   "source": [
    "df = pd.read_csv(\"../../data/maked/default/\" + dataset_name + \".csv\", header=0)\n",
    "df.head()"
   ]
  },
  {
   "cell_type": "code",
   "execution_count": 4,
   "metadata": {},
   "outputs": [
    {
     "data": {
      "text/html": [
       "<div>\n",
       "<style scoped>\n",
       "    .dataframe tbody tr th:only-of-type {\n",
       "        vertical-align: middle;\n",
       "    }\n",
       "\n",
       "    .dataframe tbody tr th {\n",
       "        vertical-align: top;\n",
       "    }\n",
       "\n",
       "    .dataframe thead th {\n",
       "        text-align: right;\n",
       "    }\n",
       "</style>\n",
       "<table border=\"1\" class=\"dataframe\">\n",
       "  <thead>\n",
       "    <tr style=\"text-align: right;\">\n",
       "      <th></th>\n",
       "      <th>compound</th>\n",
       "      <th>protein</th>\n",
       "      <th>label</th>\n",
       "    </tr>\n",
       "  </thead>\n",
       "  <tbody>\n",
       "    <tr>\n",
       "      <th>4120</th>\n",
       "      <td>C1=CC2=C3C(=C1)C=CC4=C3C(=CC5=C4[C@H]6[C@H](O6...</td>\n",
       "      <td>MAGYLRVVRSLCRASGSRPAWAPAALTAPTSQEQPRRHYADKRIKV...</td>\n",
       "      <td>0</td>\n",
       "    </tr>\n",
       "    <tr>\n",
       "      <th>6726</th>\n",
       "      <td>CCCCCCCCCCCCCCCC(=O)OCC(CO)OC(=O)CCCCCCC/C=C\\C...</td>\n",
       "      <td>MKGNSTLATTSKNITSGLHFGLVNISGNNESTLNCSQKPSDKHLDA...</td>\n",
       "      <td>0</td>\n",
       "    </tr>\n",
       "    <tr>\n",
       "      <th>5258</th>\n",
       "      <td>C1=CC(=C(C(=C1)Cl)CC(=O)N=C(N)N)Cl</td>\n",
       "      <td>MATARTFGPEREAEPAKEARVVGSELVDTYTVYIIQVTDGSHEWTV...</td>\n",
       "      <td>1</td>\n",
       "    </tr>\n",
       "    <tr>\n",
       "      <th>2266</th>\n",
       "      <td>C1CN(CCC1C(=O)N2CCN(CC2)S(=O)(=O)C3=CC4=C(C=C3...</td>\n",
       "      <td>MATAGNPWGWFLGYLILGVAGSLVSGSCSQIINGEDCSPHSQPWQA...</td>\n",
       "      <td>1</td>\n",
       "    </tr>\n",
       "    <tr>\n",
       "      <th>3181</th>\n",
       "      <td>C(C(CO)O)O</td>\n",
       "      <td>MPAELLLLLIVAFASPSCQVLSSLRMAAILDDQTVCGRGERLALAL...</td>\n",
       "      <td>1</td>\n",
       "    </tr>\n",
       "    <tr>\n",
       "      <th>...</th>\n",
       "      <td>...</td>\n",
       "      <td>...</td>\n",
       "      <td>...</td>\n",
       "    </tr>\n",
       "    <tr>\n",
       "      <th>4931</th>\n",
       "      <td>C1CN(C[C@H](N1)C(=O)NCCCS)CC2=CC=C(C=C2)F</td>\n",
       "      <td>MAQALPWLLLWMGAGVLPAHGTQHGIRLPLRSGLGGAPLGLRLPRE...</td>\n",
       "      <td>1</td>\n",
       "    </tr>\n",
       "    <tr>\n",
       "      <th>3264</th>\n",
       "      <td>C1=C[C@@H]([C@H]([C@@H]1N2C=NC3=C2N=CN=C3N)O)O</td>\n",
       "      <td>MSDKLPYKVADIGLAAWGRKALDIAENEMPGLMRMRERYSASKPLK...</td>\n",
       "      <td>1</td>\n",
       "    </tr>\n",
       "    <tr>\n",
       "      <th>1653</th>\n",
       "      <td>C(C(CO)O)O</td>\n",
       "      <td>MPFPVTTQGPPQPAPPPNRYGVSSPISLAVPKETDCLLTQRLIETL...</td>\n",
       "      <td>1</td>\n",
       "    </tr>\n",
       "    <tr>\n",
       "      <th>2607</th>\n",
       "      <td>CC(C)NCC(COC1=CC=CC2=CC=CC=C21)O</td>\n",
       "      <td>MSANATLKPLCPILEQMSRLQSHSNTSIRYIDHAAVLLHGLASLLG...</td>\n",
       "      <td>1</td>\n",
       "    </tr>\n",
       "    <tr>\n",
       "      <th>2732</th>\n",
       "      <td>CC1(C(=O)NC2=C(O1)C=CC(=N2)NC3=NC(=NC=C3F)NC4=...</td>\n",
       "      <td>MAGNCGARGALSAHTLLFDLPPALLGELCAVLDSCDGALGWRGLAE...</td>\n",
       "      <td>1</td>\n",
       "    </tr>\n",
       "  </tbody>\n",
       "</table>\n",
       "<p>6728 rows × 3 columns</p>\n",
       "</div>"
      ],
      "text/plain": [
       "                                               compound  \\\n",
       "4120  C1=CC2=C3C(=C1)C=CC4=C3C(=CC5=C4[C@H]6[C@H](O6...   \n",
       "6726  CCCCCCCCCCCCCCCC(=O)OCC(CO)OC(=O)CCCCCCC/C=C\\C...   \n",
       "5258                 C1=CC(=C(C(=C1)Cl)CC(=O)N=C(N)N)Cl   \n",
       "2266  C1CN(CCC1C(=O)N2CCN(CC2)S(=O)(=O)C3=CC4=C(C=C3...   \n",
       "3181                                         C(C(CO)O)O   \n",
       "...                                                 ...   \n",
       "4931          C1CN(C[C@H](N1)C(=O)NCCCS)CC2=CC=C(C=C2)F   \n",
       "3264     C1=C[C@@H]([C@H]([C@@H]1N2C=NC3=C2N=CN=C3N)O)O   \n",
       "1653                                         C(C(CO)O)O   \n",
       "2607                   CC(C)NCC(COC1=CC=CC2=CC=CC=C21)O   \n",
       "2732  CC1(C(=O)NC2=C(O1)C=CC(=N2)NC3=NC(=NC=C3F)NC4=...   \n",
       "\n",
       "                                                protein  label  \n",
       "4120  MAGYLRVVRSLCRASGSRPAWAPAALTAPTSQEQPRRHYADKRIKV...      0  \n",
       "6726  MKGNSTLATTSKNITSGLHFGLVNISGNNESTLNCSQKPSDKHLDA...      0  \n",
       "5258  MATARTFGPEREAEPAKEARVVGSELVDTYTVYIIQVTDGSHEWTV...      1  \n",
       "2266  MATAGNPWGWFLGYLILGVAGSLVSGSCSQIINGEDCSPHSQPWQA...      1  \n",
       "3181  MPAELLLLLIVAFASPSCQVLSSLRMAAILDDQTVCGRGERLALAL...      1  \n",
       "...                                                 ...    ...  \n",
       "4931  MAQALPWLLLWMGAGVLPAHGTQHGIRLPLRSGLGGAPLGLRLPRE...      1  \n",
       "3264  MSDKLPYKVADIGLAAWGRKALDIAENEMPGLMRMRERYSASKPLK...      1  \n",
       "1653  MPFPVTTQGPPQPAPPPNRYGVSSPISLAVPKETDCLLTQRLIETL...      1  \n",
       "2607  MSANATLKPLCPILEQMSRLQSHSNTSIRYIDHAAVLLHGLASLLG...      1  \n",
       "2732  MAGNCGARGALSAHTLLFDLPPALLGELCAVLDSCDGALGWRGLAE...      1  \n",
       "\n",
       "[6728 rows x 3 columns]"
      ]
     },
     "execution_count": 4,
     "metadata": {},
     "output_type": "execute_result"
    }
   ],
   "source": [
    "df = df.sample(frac=1, random_state=0)\n",
    "df"
   ]
  },
  {
   "cell_type": "code",
   "execution_count": 5,
   "metadata": {},
   "outputs": [],
   "source": [
    "N = len(df)\n",
    "train_len = int(N * 0.1)"
   ]
  },
  {
   "cell_type": "code",
   "execution_count": 6,
   "metadata": {},
   "outputs": [],
   "source": [
    "df_test = df[:train_len]\n",
    "df = df[train_len:]"
   ]
  },
  {
   "cell_type": "markdown",
   "metadata": {},
   "source": [
    "## SMILES形式のデータから分子量を計算する"
   ]
  },
  {
   "cell_type": "code",
   "execution_count": 7,
   "metadata": {},
   "outputs": [],
   "source": [
    "from rdkit import Chem\n",
    "from rdkit.Chem import AllChem\n",
    "from rdkit.Chem import rdMolDescriptors"
   ]
  },
  {
   "cell_type": "code",
   "execution_count": 8,
   "metadata": {},
   "outputs": [
    {
     "name": "stderr",
     "output_type": "stream",
     "text": [
      "RDKit WARNING: [14:39:24] WARNING: not removing hydrogen atom without neighbors\n",
      "[14:39:24] WARNING: not removing hydrogen atom without neighbors\n",
      "RDKit WARNING: [14:39:24] WARNING: not removing hydrogen atom without neighbors\n",
      "[14:39:24] WARNING: not removing hydrogen atom without neighbors\n",
      "RDKit WARNING: [14:39:24] WARNING: not removing hydrogen atom without neighbors\n",
      "[14:39:24] WARNING: not removing hydrogen atom without neighbors\n",
      "RDKit WARNING: [14:39:25] WARNING: not removing hydrogen atom without neighbors\n",
      "[14:39:25] WARNING: not removing hydrogen atom without neighbors\n",
      "RDKit WARNING: [14:39:25] WARNING: not removing hydrogen atom without neighbors\n",
      "[14:39:25] WARNING: not removing hydrogen atom without neighbors\n",
      "RDKit WARNING: [14:39:25] WARNING: not removing hydrogen atom without neighbors\n",
      "RDKit WARNING: [14:39:25] WARNING: not removing hydrogen atom without neighbors\n",
      "[14:39:25] WARNING: not removing hydrogen atom without neighbors\n",
      "[14:39:25] WARNING: not removing hydrogen atom without neighbors\n",
      "RDKit WARNING: [14:39:25] WARNING: not removing hydrogen atom without neighbors\n",
      "RDKit WARNING: [14:39:25] WARNING: not removing hydrogen atom without neighbors\n",
      "RDKit WARNING: [14:39:25] WARNING: not removing hydrogen atom without neighbors\n",
      "[14:39:25] WARNING: not removing hydrogen atom without neighbors\n",
      "[14:39:25] WARNING: not removing hydrogen atom without neighbors\n",
      "[14:39:25] WARNING: not removing hydrogen atom without neighbors\n",
      "/tmp/ipykernel_305984/887734936.py:1: SettingWithCopyWarning: \n",
      "A value is trying to be set on a copy of a slice from a DataFrame.\n",
      "Try using .loc[row_indexer,col_indexer] = value instead\n",
      "\n",
      "See the caveats in the documentation: https://pandas.pydata.org/pandas-docs/stable/user_guide/indexing.html#returning-a-view-versus-a-copy\n",
      "  df[\"molecular_weight\"] = df[\"compound\"].map(lambda sm: rdMolDescriptors._CalcMolWt(Chem.MolFromSmiles(sm)))\n"
     ]
    },
    {
     "data": {
      "text/html": [
       "<div>\n",
       "<style scoped>\n",
       "    .dataframe tbody tr th:only-of-type {\n",
       "        vertical-align: middle;\n",
       "    }\n",
       "\n",
       "    .dataframe tbody tr th {\n",
       "        vertical-align: top;\n",
       "    }\n",
       "\n",
       "    .dataframe thead th {\n",
       "        text-align: right;\n",
       "    }\n",
       "</style>\n",
       "<table border=\"1\" class=\"dataframe\">\n",
       "  <thead>\n",
       "    <tr style=\"text-align: right;\">\n",
       "      <th></th>\n",
       "      <th>compound</th>\n",
       "      <th>protein</th>\n",
       "      <th>label</th>\n",
       "      <th>molecular_weight</th>\n",
       "    </tr>\n",
       "  </thead>\n",
       "  <tbody>\n",
       "    <tr>\n",
       "      <th>5153</th>\n",
       "      <td>[Zn]</td>\n",
       "      <td>MTGSNMSDALANAVCQRCQARFSPAERIVNSNGELYHEHCFVCAQC...</td>\n",
       "      <td>1</td>\n",
       "      <td>65.390</td>\n",
       "    </tr>\n",
       "    <tr>\n",
       "      <th>4296</th>\n",
       "      <td>C(CS)O</td>\n",
       "      <td>MAYYQEPSVETSIIKFKDQDFTTLRDHCLSMGRTFKDETFPAADSS...</td>\n",
       "      <td>1</td>\n",
       "      <td>78.136</td>\n",
       "    </tr>\n",
       "    <tr>\n",
       "      <th>220</th>\n",
       "      <td>C(C(CO)O)O</td>\n",
       "      <td>MLSCFRLLSRHISPSLASLRPVRCCFALPLRWAPGRPLDPRQIAPR...</td>\n",
       "      <td>1</td>\n",
       "      <td>92.094</td>\n",
       "    </tr>\n",
       "    <tr>\n",
       "      <th>4532</th>\n",
       "      <td>CC1=CC2=C(C=C1C)N(C3=NC(=O)NC(=O)C3=N2)C[C@@H]...</td>\n",
       "      <td>MAAAGGARLLRAASAVLGGPAGRWLHHAGSRAGSSGLLRNRGPGGS...</td>\n",
       "      <td>1</td>\n",
       "      <td>785.557</td>\n",
       "    </tr>\n",
       "    <tr>\n",
       "      <th>247</th>\n",
       "      <td>C1CC(=O)NC2=C1C=CC(=C2)OCCCCN3CCN(CC3)C4=C(C(=...</td>\n",
       "      <td>MSANATLKPLCPILEQMSRLQSHSNTSIRYIDHAAVLLHGLASLLG...</td>\n",
       "      <td>1</td>\n",
       "      <td>448.394</td>\n",
       "    </tr>\n",
       "  </tbody>\n",
       "</table>\n",
       "</div>"
      ],
      "text/plain": [
       "                                               compound  \\\n",
       "5153                                               [Zn]   \n",
       "4296                                             C(CS)O   \n",
       "220                                          C(C(CO)O)O   \n",
       "4532  CC1=CC2=C(C=C1C)N(C3=NC(=O)NC(=O)C3=N2)C[C@@H]...   \n",
       "247   C1CC(=O)NC2=C1C=CC(=C2)OCCCCN3CCN(CC3)C4=C(C(=...   \n",
       "\n",
       "                                                protein  label  \\\n",
       "5153  MTGSNMSDALANAVCQRCQARFSPAERIVNSNGELYHEHCFVCAQC...      1   \n",
       "4296  MAYYQEPSVETSIIKFKDQDFTTLRDHCLSMGRTFKDETFPAADSS...      1   \n",
       "220   MLSCFRLLSRHISPSLASLRPVRCCFALPLRWAPGRPLDPRQIAPR...      1   \n",
       "4532  MAAAGGARLLRAASAVLGGPAGRWLHHAGSRAGSSGLLRNRGPGGS...      1   \n",
       "247   MSANATLKPLCPILEQMSRLQSHSNTSIRYIDHAAVLLHGLASLLG...      1   \n",
       "\n",
       "      molecular_weight  \n",
       "5153            65.390  \n",
       "4296            78.136  \n",
       "220             92.094  \n",
       "4532           785.557  \n",
       "247            448.394  "
      ]
     },
     "execution_count": 8,
     "metadata": {},
     "output_type": "execute_result"
    }
   ],
   "source": [
    "df[\"molecular_weight\"] = df[\"compound\"].map(lambda sm: rdMolDescriptors._CalcMolWt(Chem.MolFromSmiles(sm)))\n",
    "df.head()"
   ]
  },
  {
   "cell_type": "code",
   "execution_count": 9,
   "metadata": {},
   "outputs": [
    {
     "name": "stderr",
     "output_type": "stream",
     "text": [
      "/tmp/ipykernel_305984/589347445.py:1: SettingWithCopyWarning: \n",
      "A value is trying to be set on a copy of a slice from a DataFrame.\n",
      "Try using .loc[row_indexer,col_indexer] = value instead\n",
      "\n",
      "See the caveats in the documentation: https://pandas.pydata.org/pandas-docs/stable/user_guide/indexing.html#returning-a-view-versus-a-copy\n",
      "  df[\"weight_norm\"] = (df[\"molecular_weight\"] - df[\"molecular_weight\"].mean()) / df[\"molecular_weight\"].std()\n"
     ]
    },
    {
     "data": {
      "text/html": [
       "<div>\n",
       "<style scoped>\n",
       "    .dataframe tbody tr th:only-of-type {\n",
       "        vertical-align: middle;\n",
       "    }\n",
       "\n",
       "    .dataframe tbody tr th {\n",
       "        vertical-align: top;\n",
       "    }\n",
       "\n",
       "    .dataframe thead th {\n",
       "        text-align: right;\n",
       "    }\n",
       "</style>\n",
       "<table border=\"1\" class=\"dataframe\">\n",
       "  <thead>\n",
       "    <tr style=\"text-align: right;\">\n",
       "      <th></th>\n",
       "      <th>compound</th>\n",
       "      <th>protein</th>\n",
       "      <th>label</th>\n",
       "      <th>molecular_weight</th>\n",
       "      <th>weight_norm</th>\n",
       "    </tr>\n",
       "  </thead>\n",
       "  <tbody>\n",
       "    <tr>\n",
       "      <th>5153</th>\n",
       "      <td>[Zn]</td>\n",
       "      <td>MTGSNMSDALANAVCQRCQARFSPAERIVNSNGELYHEHCFVCAQC...</td>\n",
       "      <td>1</td>\n",
       "      <td>65.390</td>\n",
       "      <td>-0.963145</td>\n",
       "    </tr>\n",
       "    <tr>\n",
       "      <th>4296</th>\n",
       "      <td>C(CS)O</td>\n",
       "      <td>MAYYQEPSVETSIIKFKDQDFTTLRDHCLSMGRTFKDETFPAADSS...</td>\n",
       "      <td>1</td>\n",
       "      <td>78.136</td>\n",
       "      <td>-0.911125</td>\n",
       "    </tr>\n",
       "    <tr>\n",
       "      <th>220</th>\n",
       "      <td>C(C(CO)O)O</td>\n",
       "      <td>MLSCFRLLSRHISPSLASLRPVRCCFALPLRWAPGRPLDPRQIAPR...</td>\n",
       "      <td>1</td>\n",
       "      <td>92.094</td>\n",
       "      <td>-0.854159</td>\n",
       "    </tr>\n",
       "    <tr>\n",
       "      <th>4532</th>\n",
       "      <td>CC1=CC2=C(C=C1C)N(C3=NC(=O)NC(=O)C3=N2)C[C@@H]...</td>\n",
       "      <td>MAAAGGARLLRAASAVLGGPAGRWLHHAGSRAGSSGLLRNRGPGGS...</td>\n",
       "      <td>1</td>\n",
       "      <td>785.557</td>\n",
       "      <td>1.976033</td>\n",
       "    </tr>\n",
       "    <tr>\n",
       "      <th>247</th>\n",
       "      <td>C1CC(=O)NC2=C1C=CC(=C2)OCCCCN3CCN(CC3)C4=C(C(=...</td>\n",
       "      <td>MSANATLKPLCPILEQMSRLQSHSNTSIRYIDHAAVLLHGLASLLG...</td>\n",
       "      <td>1</td>\n",
       "      <td>448.394</td>\n",
       "      <td>0.599989</td>\n",
       "    </tr>\n",
       "  </tbody>\n",
       "</table>\n",
       "</div>"
      ],
      "text/plain": [
       "                                               compound  \\\n",
       "5153                                               [Zn]   \n",
       "4296                                             C(CS)O   \n",
       "220                                          C(C(CO)O)O   \n",
       "4532  CC1=CC2=C(C=C1C)N(C3=NC(=O)NC(=O)C3=N2)C[C@@H]...   \n",
       "247   C1CC(=O)NC2=C1C=CC(=C2)OCCCCN3CCN(CC3)C4=C(C(=...   \n",
       "\n",
       "                                                protein  label  \\\n",
       "5153  MTGSNMSDALANAVCQRCQARFSPAERIVNSNGELYHEHCFVCAQC...      1   \n",
       "4296  MAYYQEPSVETSIIKFKDQDFTTLRDHCLSMGRTFKDETFPAADSS...      1   \n",
       "220   MLSCFRLLSRHISPSLASLRPVRCCFALPLRWAPGRPLDPRQIAPR...      1   \n",
       "4532  MAAAGGARLLRAASAVLGGPAGRWLHHAGSRAGSSGLLRNRGPGGS...      1   \n",
       "247   MSANATLKPLCPILEQMSRLQSHSNTSIRYIDHAAVLLHGLASLLG...      1   \n",
       "\n",
       "      molecular_weight  weight_norm  \n",
       "5153            65.390    -0.963145  \n",
       "4296            78.136    -0.911125  \n",
       "220             92.094    -0.854159  \n",
       "4532           785.557     1.976033  \n",
       "247            448.394     0.599989  "
      ]
     },
     "execution_count": 9,
     "metadata": {},
     "output_type": "execute_result"
    }
   ],
   "source": [
    "df[\"weight_norm\"] = (df[\"molecular_weight\"] - df[\"molecular_weight\"].mean()) / df[\"molecular_weight\"].std()\n",
    "df.head()"
   ]
  },
  {
   "cell_type": "code",
   "execution_count": 10,
   "metadata": {},
   "outputs": [
    {
     "data": {
      "image/png": "[encoded data removed]",
      "text/plain": [
       "<Figure size 432x288 with 1 Axes>"
      ]
     },
     "metadata": {
      "needs_background": "light"
     },
     "output_type": "display_data"
    }
   ],
   "source": [
    "plt.hist(df[\"weight_norm\"].values, bins=100)\n",
    "plt.show()"
   ]
  },
  {
   "cell_type": "code",
   "execution_count": 11,
   "metadata": {},
   "outputs": [],
   "source": [
    "def sigmoid(x):\n",
    "    return 1.0 / (1.0 + np.exp(x+2))"
   ]
  },
  {
   "cell_type": "code",
   "execution_count": 12,
   "metadata": {},
   "outputs": [
    {
     "data": {
      "image/png": "[encoded data removed]",
      "text/plain": [
       "<Figure size 432x288 with 1 Axes>"
      ]
     },
     "metadata": {
      "needs_background": "light"
     },
     "output_type": "display_data"
    }
   ],
   "source": [
    "x = np.arange(-5, 5, 0.1)\n",
    "y = list(map(sigmoid, x))\n",
    "plt.plot(x,y)\n",
    "plt.show()"
   ]
  },
  {
   "cell_type": "code",
   "execution_count": 13,
   "metadata": {},
   "outputs": [
    {
     "name": "stderr",
     "output_type": "stream",
     "text": [
      "/tmp/ipykernel_305984/1989018038.py:1: SettingWithCopyWarning: \n",
      "A value is trying to be set on a copy of a slice from a DataFrame.\n",
      "Try using .loc[row_indexer,col_indexer] = value instead\n",
      "\n",
      "See the caveats in the documentation: https://pandas.pydata.org/pandas-docs/stable/user_guide/indexing.html#returning-a-view-versus-a-copy\n",
      "  df[\"prob\"] = df[\"weight_norm\"].map(sigmoid)\n"
     ]
    },
    {
     "data": {
      "text/html": [
       "<div>\n",
       "<style scoped>\n",
       "    .dataframe tbody tr th:only-of-type {\n",
       "        vertical-align: middle;\n",
       "    }\n",
       "\n",
       "    .dataframe tbody tr th {\n",
       "        vertical-align: top;\n",
       "    }\n",
       "\n",
       "    .dataframe thead th {\n",
       "        text-align: right;\n",
       "    }\n",
       "</style>\n",
       "<table border=\"1\" class=\"dataframe\">\n",
       "  <thead>\n",
       "    <tr style=\"text-align: right;\">\n",
       "      <th></th>\n",
       "      <th>compound</th>\n",
       "      <th>protein</th>\n",
       "      <th>label</th>\n",
       "      <th>molecular_weight</th>\n",
       "      <th>weight_norm</th>\n",
       "      <th>prob</th>\n",
       "    </tr>\n",
       "  </thead>\n",
       "  <tbody>\n",
       "    <tr>\n",
       "      <th>5153</th>\n",
       "      <td>[Zn]</td>\n",
       "      <td>MTGSNMSDALANAVCQRCQARFSPAERIVNSNGELYHEHCFVCAQC...</td>\n",
       "      <td>1</td>\n",
       "      <td>65.390</td>\n",
       "      <td>-0.963145</td>\n",
       "      <td>0.261757</td>\n",
       "    </tr>\n",
       "    <tr>\n",
       "      <th>4296</th>\n",
       "      <td>C(CS)O</td>\n",
       "      <td>MAYYQEPSVETSIIKFKDQDFTTLRDHCLSMGRTFKDETFPAADSS...</td>\n",
       "      <td>1</td>\n",
       "      <td>78.136</td>\n",
       "      <td>-0.911125</td>\n",
       "      <td>0.251830</td>\n",
       "    </tr>\n",
       "    <tr>\n",
       "      <th>220</th>\n",
       "      <td>C(C(CO)O)O</td>\n",
       "      <td>MLSCFRLLSRHISPSLASLRPVRCCFALPLRWAPGRPLDPRQIAPR...</td>\n",
       "      <td>1</td>\n",
       "      <td>92.094</td>\n",
       "      <td>-0.854159</td>\n",
       "      <td>0.241250</td>\n",
       "    </tr>\n",
       "    <tr>\n",
       "      <th>4532</th>\n",
       "      <td>CC1=CC2=C(C=C1C)N(C3=NC(=O)NC(=O)C3=N2)C[C@@H]...</td>\n",
       "      <td>MAAAGGARLLRAASAVLGGPAGRWLHHAGSRAGSSGLLRNRGPGGS...</td>\n",
       "      <td>1</td>\n",
       "      <td>785.557</td>\n",
       "      <td>1.976033</td>\n",
       "      <td>0.018414</td>\n",
       "    </tr>\n",
       "    <tr>\n",
       "      <th>247</th>\n",
       "      <td>C1CC(=O)NC2=C1C=CC(=C2)OCCCCN3CCN(CC3)C4=C(C(=...</td>\n",
       "      <td>MSANATLKPLCPILEQMSRLQSHSNTSIRYIDHAAVLLHGLASLLG...</td>\n",
       "      <td>1</td>\n",
       "      <td>448.394</td>\n",
       "      <td>0.599989</td>\n",
       "      <td>0.069139</td>\n",
       "    </tr>\n",
       "  </tbody>\n",
       "</table>\n",
       "</div>"
      ],
      "text/plain": [
       "                                               compound  \\\n",
       "5153                                               [Zn]   \n",
       "4296                                             C(CS)O   \n",
       "220                                          C(C(CO)O)O   \n",
       "4532  CC1=CC2=C(C=C1C)N(C3=NC(=O)NC(=O)C3=N2)C[C@@H]...   \n",
       "247   C1CC(=O)NC2=C1C=CC(=C2)OCCCCN3CCN(CC3)C4=C(C(=...   \n",
       "\n",
       "                                                protein  label  \\\n",
       "5153  MTGSNMSDALANAVCQRCQARFSPAERIVNSNGELYHEHCFVCAQC...      1   \n",
       "4296  MAYYQEPSVETSIIKFKDQDFTTLRDHCLSMGRTFKDETFPAADSS...      1   \n",
       "220   MLSCFRLLSRHISPSLASLRPVRCCFALPLRWAPGRPLDPRQIAPR...      1   \n",
       "4532  MAAAGGARLLRAASAVLGGPAGRWLHHAGSRAGSSGLLRNRGPGGS...      1   \n",
       "247   MSANATLKPLCPILEQMSRLQSHSNTSIRYIDHAAVLLHGLASLLG...      1   \n",
       "\n",
       "      molecular_weight  weight_norm      prob  \n",
       "5153            65.390    -0.963145  0.261757  \n",
       "4296            78.136    -0.911125  0.251830  \n",
       "220             92.094    -0.854159  0.241250  \n",
       "4532           785.557     1.976033  0.018414  \n",
       "247            448.394     0.599989  0.069139  "
      ]
     },
     "execution_count": 13,
     "metadata": {},
     "output_type": "execute_result"
    }
   ],
   "source": [
    "df[\"prob\"] = df[\"weight_norm\"].map(sigmoid)\n",
    "df.head()"
   ]
  },
  {
   "cell_type": "code",
   "execution_count": 14,
   "metadata": {},
   "outputs": [
    {
     "data": {
      "image/png": "[encoded data removed]",
      "text/plain": [
       "<Figure size 432x288 with 1 Axes>"
      ]
     },
     "metadata": {
      "needs_background": "light"
     },
     "output_type": "display_data"
    }
   ],
   "source": [
    "plt.hist(df[\"prob\"].values, bins=100)\n",
    "plt.show()"
   ]
  },
  {
   "cell_type": "code",
   "execution_count": 15,
   "metadata": {},
   "outputs": [],
   "source": [
    "import random"
   ]
  },
  {
   "cell_type": "code",
   "execution_count": 16,
   "metadata": {},
   "outputs": [],
   "source": [
    "def observed(x):\n",
    "    coin = random.random()\n",
    "    if x > coin:\n",
    "        return 1\n",
    "    else:\n",
    "        return 0"
   ]
  },
  {
   "cell_type": "code",
   "execution_count": 17,
   "metadata": {},
   "outputs": [
    {
     "name": "stderr",
     "output_type": "stream",
     "text": [
      "/tmp/ipykernel_305984/368356247.py:1: SettingWithCopyWarning: \n",
      "A value is trying to be set on a copy of a slice from a DataFrame.\n",
      "Try using .loc[row_indexer,col_indexer] = value instead\n",
      "\n",
      "See the caveats in the documentation: https://pandas.pydata.org/pandas-docs/stable/user_guide/indexing.html#returning-a-view-versus-a-copy\n",
      "  df[\"observed\"] = df[\"prob\"].map(observed)\n"
     ]
    },
    {
     "data": {
      "text/html": [
       "<div>\n",
       "<style scoped>\n",
       "    .dataframe tbody tr th:only-of-type {\n",
       "        vertical-align: middle;\n",
       "    }\n",
       "\n",
       "    .dataframe tbody tr th {\n",
       "        vertical-align: top;\n",
       "    }\n",
       "\n",
       "    .dataframe thead th {\n",
       "        text-align: right;\n",
       "    }\n",
       "</style>\n",
       "<table border=\"1\" class=\"dataframe\">\n",
       "  <thead>\n",
       "    <tr style=\"text-align: right;\">\n",
       "      <th></th>\n",
       "      <th>compound</th>\n",
       "      <th>protein</th>\n",
       "      <th>label</th>\n",
       "      <th>molecular_weight</th>\n",
       "      <th>weight_norm</th>\n",
       "      <th>prob</th>\n",
       "      <th>observed</th>\n",
       "    </tr>\n",
       "  </thead>\n",
       "  <tbody>\n",
       "    <tr>\n",
       "      <th>5153</th>\n",
       "      <td>[Zn]</td>\n",
       "      <td>MTGSNMSDALANAVCQRCQARFSPAERIVNSNGELYHEHCFVCAQC...</td>\n",
       "      <td>1</td>\n",
       "      <td>65.390</td>\n",
       "      <td>-0.963145</td>\n",
       "      <td>0.261757</td>\n",
       "      <td>0</td>\n",
       "    </tr>\n",
       "    <tr>\n",
       "      <th>4296</th>\n",
       "      <td>C(CS)O</td>\n",
       "      <td>MAYYQEPSVETSIIKFKDQDFTTLRDHCLSMGRTFKDETFPAADSS...</td>\n",
       "      <td>1</td>\n",
       "      <td>78.136</td>\n",
       "      <td>-0.911125</td>\n",
       "      <td>0.251830</td>\n",
       "      <td>0</td>\n",
       "    </tr>\n",
       "    <tr>\n",
       "      <th>220</th>\n",
       "      <td>C(C(CO)O)O</td>\n",
       "      <td>MLSCFRLLSRHISPSLASLRPVRCCFALPLRWAPGRPLDPRQIAPR...</td>\n",
       "      <td>1</td>\n",
       "      <td>92.094</td>\n",
       "      <td>-0.854159</td>\n",
       "      <td>0.241250</td>\n",
       "      <td>0</td>\n",
       "    </tr>\n",
       "    <tr>\n",
       "      <th>4532</th>\n",
       "      <td>CC1=CC2=C(C=C1C)N(C3=NC(=O)NC(=O)C3=N2)C[C@@H]...</td>\n",
       "      <td>MAAAGGARLLRAASAVLGGPAGRWLHHAGSRAGSSGLLRNRGPGGS...</td>\n",
       "      <td>1</td>\n",
       "      <td>785.557</td>\n",
       "      <td>1.976033</td>\n",
       "      <td>0.018414</td>\n",
       "      <td>1</td>\n",
       "    </tr>\n",
       "    <tr>\n",
       "      <th>247</th>\n",
       "      <td>C1CC(=O)NC2=C1C=CC(=C2)OCCCCN3CCN(CC3)C4=C(C(=...</td>\n",
       "      <td>MSANATLKPLCPILEQMSRLQSHSNTSIRYIDHAAVLLHGLASLLG...</td>\n",
       "      <td>1</td>\n",
       "      <td>448.394</td>\n",
       "      <td>0.599989</td>\n",
       "      <td>0.069139</td>\n",
       "      <td>0</td>\n",
       "    </tr>\n",
       "  </tbody>\n",
       "</table>\n",
       "</div>"
      ],
      "text/plain": [
       "                                               compound  \\\n",
       "5153                                               [Zn]   \n",
       "4296                                             C(CS)O   \n",
       "220                                          C(C(CO)O)O   \n",
       "4532  CC1=CC2=C(C=C1C)N(C3=NC(=O)NC(=O)C3=N2)C[C@@H]...   \n",
       "247   C1CC(=O)NC2=C1C=CC(=C2)OCCCCN3CCN(CC3)C4=C(C(=...   \n",
       "\n",
       "                                                protein  label  \\\n",
       "5153  MTGSNMSDALANAVCQRCQARFSPAERIVNSNGELYHEHCFVCAQC...      1   \n",
       "4296  MAYYQEPSVETSIIKFKDQDFTTLRDHCLSMGRTFKDETFPAADSS...      1   \n",
       "220   MLSCFRLLSRHISPSLASLRPVRCCFALPLRWAPGRPLDPRQIAPR...      1   \n",
       "4532  MAAAGGARLLRAASAVLGGPAGRWLHHAGSRAGSSGLLRNRGPGGS...      1   \n",
       "247   MSANATLKPLCPILEQMSRLQSHSNTSIRYIDHAAVLLHGLASLLG...      1   \n",
       "\n",
       "      molecular_weight  weight_norm      prob  observed  \n",
       "5153            65.390    -0.963145  0.261757         0  \n",
       "4296            78.136    -0.911125  0.251830         0  \n",
       "220             92.094    -0.854159  0.241250         0  \n",
       "4532           785.557     1.976033  0.018414         1  \n",
       "247            448.394     0.599989  0.069139         0  "
      ]
     },
     "execution_count": 17,
     "metadata": {},
     "output_type": "execute_result"
    }
   ],
   "source": [
    "df[\"observed\"] = df[\"prob\"].map(observed)\n",
    "df.head()"
   ]
  },
  {
   "cell_type": "code",
   "execution_count": 18,
   "metadata": {},
   "outputs": [
    {
     "data": {
      "text/html": [
       "<div>\n",
       "<style scoped>\n",
       "    .dataframe tbody tr th:only-of-type {\n",
       "        vertical-align: middle;\n",
       "    }\n",
       "\n",
       "    .dataframe tbody tr th {\n",
       "        vertical-align: top;\n",
       "    }\n",
       "\n",
       "    .dataframe thead th {\n",
       "        text-align: right;\n",
       "    }\n",
       "</style>\n",
       "<table border=\"1\" class=\"dataframe\">\n",
       "  <thead>\n",
       "    <tr style=\"text-align: right;\">\n",
       "      <th></th>\n",
       "      <th>compound</th>\n",
       "      <th>protein</th>\n",
       "      <th>label</th>\n",
       "      <th>molecular_weight</th>\n",
       "      <th>weight_norm</th>\n",
       "      <th>prob</th>\n",
       "      <th>observed</th>\n",
       "    </tr>\n",
       "  </thead>\n",
       "  <tbody>\n",
       "    <tr>\n",
       "      <th>4532</th>\n",
       "      <td>CC1=CC2=C(C=C1C)N(C3=NC(=O)NC(=O)C3=N2)C[C@@H]...</td>\n",
       "      <td>MAAAGGARLLRAASAVLGGPAGRWLHHAGSRAGSSGLLRNRGPGGS...</td>\n",
       "      <td>1</td>\n",
       "      <td>785.557</td>\n",
       "      <td>1.976033</td>\n",
       "      <td>0.018414</td>\n",
       "      <td>1</td>\n",
       "    </tr>\n",
       "    <tr>\n",
       "      <th>5884</th>\n",
       "      <td>CCCCCCC=CCCCCCCCC(=O)O</td>\n",
       "      <td>MAGENHQWQGSILYNMLMSAKQTRAAPEAPETRLVDQCWGCSCGDE...</td>\n",
       "      <td>0</td>\n",
       "      <td>254.414</td>\n",
       "      <td>-0.191691</td>\n",
       "      <td>0.140843</td>\n",
       "      <td>1</td>\n",
       "    </tr>\n",
       "    <tr>\n",
       "      <th>3408</th>\n",
       "      <td>CNCCC(C1=CC=CC=C1)OC2=CC=C(C=C2)C(F)(F)F</td>\n",
       "      <td>METTPLNSQKQLSACEDGEDCQENGVLQKVVPTPGDKVESGQISNG...</td>\n",
       "      <td>1</td>\n",
       "      <td>309.331</td>\n",
       "      <td>0.032438</td>\n",
       "      <td>0.115839</td>\n",
       "      <td>1</td>\n",
       "    </tr>\n",
       "    <tr>\n",
       "      <th>1891</th>\n",
       "      <td>CC(C)CN1C2=C(C(=O)N(C1=O)C)NC=N2</td>\n",
       "      <td>MAVPGDAARVRDKPVHSGVSQAPTAGRDCHHRADPASPRDSGCRGC...</td>\n",
       "      <td>1</td>\n",
       "      <td>222.248</td>\n",
       "      <td>-0.322969</td>\n",
       "      <td>0.157489</td>\n",
       "      <td>1</td>\n",
       "    </tr>\n",
       "    <tr>\n",
       "      <th>5776</th>\n",
       "      <td>CNC(CC(=O)O)C(=O)O</td>\n",
       "      <td>MDKLDANVSSEEGFGSVEKVVLLTFLSTVILMAILGNLLVMVAVCW...</td>\n",
       "      <td>0</td>\n",
       "      <td>147.130</td>\n",
       "      <td>-0.629544</td>\n",
       "      <td>0.202546</td>\n",
       "      <td>1</td>\n",
       "    </tr>\n",
       "  </tbody>\n",
       "</table>\n",
       "</div>"
      ],
      "text/plain": [
       "                                               compound  \\\n",
       "4532  CC1=CC2=C(C=C1C)N(C3=NC(=O)NC(=O)C3=N2)C[C@@H]...   \n",
       "5884                             CCCCCCC=CCCCCCCCC(=O)O   \n",
       "3408           CNCCC(C1=CC=CC=C1)OC2=CC=C(C=C2)C(F)(F)F   \n",
       "1891                   CC(C)CN1C2=C(C(=O)N(C1=O)C)NC=N2   \n",
       "5776                                 CNC(CC(=O)O)C(=O)O   \n",
       "\n",
       "                                                protein  label  \\\n",
       "4532  MAAAGGARLLRAASAVLGGPAGRWLHHAGSRAGSSGLLRNRGPGGS...      1   \n",
       "5884  MAGENHQWQGSILYNMLMSAKQTRAAPEAPETRLVDQCWGCSCGDE...      0   \n",
       "3408  METTPLNSQKQLSACEDGEDCQENGVLQKVVPTPGDKVESGQISNG...      1   \n",
       "1891  MAVPGDAARVRDKPVHSGVSQAPTAGRDCHHRADPASPRDSGCRGC...      1   \n",
       "5776  MDKLDANVSSEEGFGSVEKVVLLTFLSTVILMAILGNLLVMVAVCW...      0   \n",
       "\n",
       "      molecular_weight  weight_norm      prob  observed  \n",
       "4532           785.557     1.976033  0.018414         1  \n",
       "5884           254.414    -0.191691  0.140843         1  \n",
       "3408           309.331     0.032438  0.115839         1  \n",
       "1891           222.248    -0.322969  0.157489         1  \n",
       "5776           147.130    -0.629544  0.202546         1  "
      ]
     },
     "execution_count": 18,
     "metadata": {},
     "output_type": "execute_result"
    }
   ],
   "source": [
    "df_observed = df[df[\"observed\"] == 1]\n",
    "df_observed.head()"
   ]
  },
  {
   "cell_type": "code",
   "execution_count": 19,
   "metadata": {},
   "outputs": [
    {
     "data": {
      "text/plain": [
       "836"
      ]
     },
     "execution_count": 19,
     "metadata": {},
     "output_type": "execute_result"
    }
   ],
   "source": [
    "len(df_observed)"
   ]
  },
  {
   "cell_type": "code",
   "execution_count": 20,
   "metadata": {},
   "outputs": [],
   "source": [
    "count_compound = df_observed[\"compound\"].value_counts().to_dict()\n",
    "def calc_weight(x):\n",
    "    weight = 1 / count_compound[x]\n",
    "    weight = max( weight, 0.1)\n",
    "    weight = min( weight, 0.9)\n",
    "    return weight"
   ]
  },
  {
   "cell_type": "code",
   "execution_count": 21,
   "metadata": {},
   "outputs": [
    {
     "name": "stderr",
     "output_type": "stream",
     "text": [
      "/tmp/ipykernel_305984/1975894560.py:1: SettingWithCopyWarning: \n",
      "A value is trying to be set on a copy of a slice from a DataFrame.\n",
      "Try using .loc[row_indexer,col_indexer] = value instead\n",
      "\n",
      "See the caveats in the documentation: https://pandas.pydata.org/pandas-docs/stable/user_guide/indexing.html#returning-a-view-versus-a-copy\n",
      "  df_observed[\"weight\"] = df_observed[\"compound\"].map(calc_weight)\n"
     ]
    },
    {
     "data": {
      "text/html": [
       "<div>\n",
       "<style scoped>\n",
       "    .dataframe tbody tr th:only-of-type {\n",
       "        vertical-align: middle;\n",
       "    }\n",
       "\n",
       "    .dataframe tbody tr th {\n",
       "        vertical-align: top;\n",
       "    }\n",
       "\n",
       "    .dataframe thead th {\n",
       "        text-align: right;\n",
       "    }\n",
       "</style>\n",
       "<table border=\"1\" class=\"dataframe\">\n",
       "  <thead>\n",
       "    <tr style=\"text-align: right;\">\n",
       "      <th></th>\n",
       "      <th>compound</th>\n",
       "      <th>protein</th>\n",
       "      <th>label</th>\n",
       "      <th>molecular_weight</th>\n",
       "      <th>weight_norm</th>\n",
       "      <th>prob</th>\n",
       "      <th>observed</th>\n",
       "      <th>weight</th>\n",
       "    </tr>\n",
       "  </thead>\n",
       "  <tbody>\n",
       "    <tr>\n",
       "      <th>4532</th>\n",
       "      <td>CC1=CC2=C(C=C1C)N(C3=NC(=O)NC(=O)C3=N2)C[C@@H]...</td>\n",
       "      <td>MAAAGGARLLRAASAVLGGPAGRWLHHAGSRAGSSGLLRNRGPGGS...</td>\n",
       "      <td>1</td>\n",
       "      <td>785.557</td>\n",
       "      <td>1.976033</td>\n",
       "      <td>0.018414</td>\n",
       "      <td>1</td>\n",
       "      <td>0.9</td>\n",
       "    </tr>\n",
       "    <tr>\n",
       "      <th>5884</th>\n",
       "      <td>CCCCCCC=CCCCCCCCC(=O)O</td>\n",
       "      <td>MAGENHQWQGSILYNMLMSAKQTRAAPEAPETRLVDQCWGCSCGDE...</td>\n",
       "      <td>0</td>\n",
       "      <td>254.414</td>\n",
       "      <td>-0.191691</td>\n",
       "      <td>0.140843</td>\n",
       "      <td>1</td>\n",
       "      <td>0.9</td>\n",
       "    </tr>\n",
       "    <tr>\n",
       "      <th>3408</th>\n",
       "      <td>CNCCC(C1=CC=CC=C1)OC2=CC=C(C=C2)C(F)(F)F</td>\n",
       "      <td>METTPLNSQKQLSACEDGEDCQENGVLQKVVPTPGDKVESGQISNG...</td>\n",
       "      <td>1</td>\n",
       "      <td>309.331</td>\n",
       "      <td>0.032438</td>\n",
       "      <td>0.115839</td>\n",
       "      <td>1</td>\n",
       "      <td>0.5</td>\n",
       "    </tr>\n",
       "    <tr>\n",
       "      <th>1891</th>\n",
       "      <td>CC(C)CN1C2=C(C(=O)N(C1=O)C)NC=N2</td>\n",
       "      <td>MAVPGDAARVRDKPVHSGVSQAPTAGRDCHHRADPASPRDSGCRGC...</td>\n",
       "      <td>1</td>\n",
       "      <td>222.248</td>\n",
       "      <td>-0.322969</td>\n",
       "      <td>0.157489</td>\n",
       "      <td>1</td>\n",
       "      <td>0.9</td>\n",
       "    </tr>\n",
       "    <tr>\n",
       "      <th>5776</th>\n",
       "      <td>CNC(CC(=O)O)C(=O)O</td>\n",
       "      <td>MDKLDANVSSEEGFGSVEKVVLLTFLSTVILMAILGNLLVMVAVCW...</td>\n",
       "      <td>0</td>\n",
       "      <td>147.130</td>\n",
       "      <td>-0.629544</td>\n",
       "      <td>0.202546</td>\n",
       "      <td>1</td>\n",
       "      <td>0.9</td>\n",
       "    </tr>\n",
       "  </tbody>\n",
       "</table>\n",
       "</div>"
      ],
      "text/plain": [
       "                                               compound  \\\n",
       "4532  CC1=CC2=C(C=C1C)N(C3=NC(=O)NC(=O)C3=N2)C[C@@H]...   \n",
       "5884                             CCCCCCC=CCCCCCCCC(=O)O   \n",
       "3408           CNCCC(C1=CC=CC=C1)OC2=CC=C(C=C2)C(F)(F)F   \n",
       "1891                   CC(C)CN1C2=C(C(=O)N(C1=O)C)NC=N2   \n",
       "5776                                 CNC(CC(=O)O)C(=O)O   \n",
       "\n",
       "                                                protein  label  \\\n",
       "4532  MAAAGGARLLRAASAVLGGPAGRWLHHAGSRAGSSGLLRNRGPGGS...      1   \n",
       "5884  MAGENHQWQGSILYNMLMSAKQTRAAPEAPETRLVDQCWGCSCGDE...      0   \n",
       "3408  METTPLNSQKQLSACEDGEDCQENGVLQKVVPTPGDKVESGQISNG...      1   \n",
       "1891  MAVPGDAARVRDKPVHSGVSQAPTAGRDCHHRADPASPRDSGCRGC...      1   \n",
       "5776  MDKLDANVSSEEGFGSVEKVVLLTFLSTVILMAILGNLLVMVAVCW...      0   \n",
       "\n",
       "      molecular_weight  weight_norm      prob  observed  weight  \n",
       "4532           785.557     1.976033  0.018414         1     0.9  \n",
       "5884           254.414    -0.191691  0.140843         1     0.9  \n",
       "3408           309.331     0.032438  0.115839         1     0.5  \n",
       "1891           222.248    -0.322969  0.157489         1     0.9  \n",
       "5776           147.130    -0.629544  0.202546         1     0.9  "
      ]
     },
     "execution_count": 21,
     "metadata": {},
     "output_type": "execute_result"
    }
   ],
   "source": [
    "df_observed[\"weight\"] = df_observed[\"compound\"].map(calc_weight)\n",
    "df_observed.head()"
   ]
  },
  {
   "cell_type": "code",
   "execution_count": 22,
   "metadata": {},
   "outputs": [],
   "source": [
    "# df_observed[[\"compound\", \"protein\", \"label\", \"weight\"]].to_csv(\"../../data/maked/bias/train_\" + dataset_name + \".csv\", index=None)\n",
    "# df_test.to_csv(\"../../data/maked/bias/test_\" + dataset_name + \".csv\", index=None)"
   ]
  },
  {
   "cell_type": "code",
   "execution_count": 23,
   "metadata": {},
   "outputs": [],
   "source": [
    "def counting(x):\n",
    "    return count_compound[x]"
   ]
  },
  {
   "cell_type": "code",
   "execution_count": 24,
   "metadata": {},
   "outputs": [
    {
     "data": {
      "text/html": [
       "<div>\n",
       "<style scoped>\n",
       "    .dataframe tbody tr th:only-of-type {\n",
       "        vertical-align: middle;\n",
       "    }\n",
       "\n",
       "    .dataframe tbody tr th {\n",
       "        vertical-align: top;\n",
       "    }\n",
       "\n",
       "    .dataframe thead th {\n",
       "        text-align: right;\n",
       "    }\n",
       "</style>\n",
       "<table border=\"1\" class=\"dataframe\">\n",
       "  <thead>\n",
       "    <tr style=\"text-align: right;\">\n",
       "      <th></th>\n",
       "      <th>compound</th>\n",
       "    </tr>\n",
       "  </thead>\n",
       "  <tbody>\n",
       "    <tr>\n",
       "      <th>0</th>\n",
       "      <td>CC1=CC2=C(C=C1C)N(C3=NC(=O)NC(=O)C3=N2)C[C@@H]...</td>\n",
       "    </tr>\n",
       "    <tr>\n",
       "      <th>1</th>\n",
       "      <td>CCCCCCC=CCCCCCCCC(=O)O</td>\n",
       "    </tr>\n",
       "    <tr>\n",
       "      <th>2</th>\n",
       "      <td>CNCCC(C1=CC=CC=C1)OC2=CC=C(C=C2)C(F)(F)F</td>\n",
       "    </tr>\n",
       "    <tr>\n",
       "      <th>3</th>\n",
       "      <td>CC(C)CN1C2=C(C(=O)N(C1=O)C)NC=N2</td>\n",
       "    </tr>\n",
       "    <tr>\n",
       "      <th>4</th>\n",
       "      <td>CNC(CC(=O)O)C(=O)O</td>\n",
       "    </tr>\n",
       "  </tbody>\n",
       "</table>\n",
       "</div>"
      ],
      "text/plain": [
       "                                            compound\n",
       "0  CC1=CC2=C(C=C1C)N(C3=NC(=O)NC(=O)C3=N2)C[C@@H]...\n",
       "1                             CCCCCCC=CCCCCCCCC(=O)O\n",
       "2           CNCCC(C1=CC=CC=C1)OC2=CC=C(C=C2)C(F)(F)F\n",
       "3                   CC(C)CN1C2=C(C(=O)N(C1=O)C)NC=N2\n",
       "4                                 CNC(CC(=O)O)C(=O)O"
      ]
     },
     "execution_count": 24,
     "metadata": {},
     "output_type": "execute_result"
    }
   ],
   "source": [
    "df_compound = pd.DataFrame(df_observed[\"compound\"].unique(), columns=[\"compound\"])\n",
    "df_compound.head()"
   ]
  },
  {
   "cell_type": "code",
   "execution_count": 25,
   "metadata": {},
   "outputs": [
    {
     "name": "stderr",
     "output_type": "stream",
     "text": [
      "RDKit WARNING: [14:39:26] WARNING: not removing hydrogen atom without neighbors\n",
      "[14:39:26] WARNING: not removing hydrogen atom without neighbors\n",
      "RDKit WARNING: [14:39:26] WARNING: not removing hydrogen atom without neighbors\n",
      "RDKit WARNING: [14:39:26] WARNING: not removing hydrogen atom without neighbors\n",
      "RDKit WARNING: [14:39:26] WARNING: not removing hydrogen atom without neighbors\n",
      "RDKit WARNING: [14:39:26] WARNING: not removing hydrogen atom without neighbors\n",
      "[14:39:26] WARNING: not removing hydrogen atom without neighbors\n",
      "[14:39:26] WARNING: not removing hydrogen atom without neighbors\n",
      "[14:39:26] WARNING: not removing hydrogen atom without neighbors\n",
      "[14:39:26] WARNING: not removing hydrogen atom without neighbors\n"
     ]
    },
    {
     "data": {
      "text/html": [
       "<div>\n",
       "<style scoped>\n",
       "    .dataframe tbody tr th:only-of-type {\n",
       "        vertical-align: middle;\n",
       "    }\n",
       "\n",
       "    .dataframe tbody tr th {\n",
       "        vertical-align: top;\n",
       "    }\n",
       "\n",
       "    .dataframe thead th {\n",
       "        text-align: right;\n",
       "    }\n",
       "</style>\n",
       "<table border=\"1\" class=\"dataframe\">\n",
       "  <thead>\n",
       "    <tr style=\"text-align: right;\">\n",
       "      <th></th>\n",
       "      <th>compound</th>\n",
       "      <th>link</th>\n",
       "      <th>molecular_weight</th>\n",
       "    </tr>\n",
       "  </thead>\n",
       "  <tbody>\n",
       "    <tr>\n",
       "      <th>0</th>\n",
       "      <td>CC1=CC2=C(C=C1C)N(C3=NC(=O)NC(=O)C3=N2)C[C@@H]...</td>\n",
       "      <td>1</td>\n",
       "      <td>785.557</td>\n",
       "    </tr>\n",
       "    <tr>\n",
       "      <th>1</th>\n",
       "      <td>CCCCCCC=CCCCCCCCC(=O)O</td>\n",
       "      <td>1</td>\n",
       "      <td>254.414</td>\n",
       "    </tr>\n",
       "    <tr>\n",
       "      <th>2</th>\n",
       "      <td>CNCCC(C1=CC=CC=C1)OC2=CC=C(C=C2)C(F)(F)F</td>\n",
       "      <td>2</td>\n",
       "      <td>309.331</td>\n",
       "    </tr>\n",
       "    <tr>\n",
       "      <th>3</th>\n",
       "      <td>CC(C)CN1C2=C(C(=O)N(C1=O)C)NC=N2</td>\n",
       "      <td>1</td>\n",
       "      <td>222.248</td>\n",
       "    </tr>\n",
       "    <tr>\n",
       "      <th>4</th>\n",
       "      <td>CNC(CC(=O)O)C(=O)O</td>\n",
       "      <td>1</td>\n",
       "      <td>147.130</td>\n",
       "    </tr>\n",
       "  </tbody>\n",
       "</table>\n",
       "</div>"
      ],
      "text/plain": [
       "                                            compound  link  molecular_weight\n",
       "0  CC1=CC2=C(C=C1C)N(C3=NC(=O)NC(=O)C3=N2)C[C@@H]...     1           785.557\n",
       "1                             CCCCCCC=CCCCCCCCC(=O)O     1           254.414\n",
       "2           CNCCC(C1=CC=CC=C1)OC2=CC=C(C=C2)C(F)(F)F     2           309.331\n",
       "3                   CC(C)CN1C2=C(C(=O)N(C1=O)C)NC=N2     1           222.248\n",
       "4                                 CNC(CC(=O)O)C(=O)O     1           147.130"
      ]
     },
     "execution_count": 25,
     "metadata": {},
     "output_type": "execute_result"
    }
   ],
   "source": [
    "df_compound[\"link\"] = df_compound[\"compound\"].map(counting)\n",
    "df_compound[\"molecular_weight\"] = df_compound[\"compound\"].map(lambda sm: rdMolDescriptors._CalcMolWt(Chem.MolFromSmiles(sm)))\n",
    "\n",
    "df_compound.head()"
   ]
  },
  {
   "cell_type": "code",
   "execution_count": 26,
   "metadata": {},
   "outputs": [],
   "source": [
    "li = []\n",
    "for i in range(50):\n",
    "    if i < 49:\n",
    "        df_new = df_compound[(df_compound[\"molecular_weight\"] < (i+1) * 20) & (i * 20 <= df_compound[\"molecular_weight\"])]\n",
    "    else:\n",
    "        df_new = df_compound[(i * 20 <= df_compound[\"molecular_weight\"])]\n",
    "    if 0 == len(df_new[\"link\"].values):\n",
    "        m = 0\n",
    "    else:\n",
    "        m = np.mean(df_new[\"link\"].values)\n",
    "    li.append(m)"
   ]
  },
  {
   "cell_type": "code",
   "execution_count": 27,
   "metadata": {},
   "outputs": [
    {
     "data": {
      "image/png": "[encoded data removed]",
      "text/plain": [
       "<Figure size 432x288 with 1 Axes>"
      ]
     },
     "metadata": {},
     "output_type": "display_data"
    }
   ],
   "source": [
    "fig, ax = plt.subplots()\n",
    "# Axesに棒グラフを追加\n",
    "ax.bar(range(len(li)), li)\n",
    "fig.patch.set_facecolor('white')\n",
    "ax.set_xlabel(\"Molecular Weight\")\n",
    "ax.set_ylabel(\"Average Links\")\n",
    "# ax.set_title(\"Human Dataset Link Bias Strong Sum Links\")\n",
    "ax.set_title(\"Human Dataset Link Bias Stronger Average Links\")\n",
    "plt.show()\n",
    "fig.savefig(\"link_bias_strong_average_link.png\")"
   ]
  },
  {
   "cell_type": "code",
   "execution_count": null,
   "metadata": {},
   "outputs": [],
   "source": []
  },
  {
   "cell_type": "code",
   "execution_count": null,
   "metadata": {},
   "outputs": [],
   "source": []
  }
 ],
 "metadata": {
  "interpreter": {
   "hash": "8d396b96c37022cc03b590fb7e0f59e9625b1a542a0cf65b03ce3992dff67545"
  },
  "kernelspec": {
   "display_name": "Python 3.9.7 64-bit ('compound': conda)",
   "language": "python",
   "name": "python3"
  },
  "language_info": {
   "codemirror_mode": {
    "name": "ipython",
    "version": 3
   },
   "file_extension": ".py",
   "mimetype": "text/x-python",
   "name": "python",
   "nbconvert_exporter": "python",
   "pygments_lexer": "ipython3",
   "version": "3.9.7"
  },
  "orig_nbformat": 4
 },
 "nbformat": 4,
 "nbformat_minor": 2
}
