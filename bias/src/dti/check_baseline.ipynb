{
 "cells": [
  {
   "cell_type": "code",
   "execution_count": null,
   "metadata": {},
   "outputs": [],
   "source": []
  },
  {
   "cell_type": "code",
   "execution_count": 2,
   "metadata": {},
   "outputs": [],
   "source": [
    "import numpy as np \n",
    "import pandas as pd "
   ]
  },
  {
   "cell_type": "code",
   "execution_count": 3,
   "metadata": {},
   "outputs": [],
   "source": [
    "import torch\n",
    "import torch.nn as nn\n",
    "import torch.nn.functional as F"
   ]
  },
  {
   "cell_type": "code",
   "execution_count": 4,
   "metadata": {},
   "outputs": [],
   "source": [
    "from rdkit import Chem\n",
    "from rdkit.Chem import AllChem\n",
    "from rdkit.Chem import rdMolDescriptors"
   ]
  },
  {
   "cell_type": "code",
   "execution_count": 5,
   "metadata": {},
   "outputs": [],
   "source": [
    "seq_rdic = ['A','I','L','V','F','W','Y','N','C','Q','M','S','T','D','E','R','H','K','G','P','O','U','X','B','Z']\n",
    "seq_dic = {w: i+1 for i, w in enumerate(seq_rdic)}"
   ]
  },
  {
   "cell_type": "code",
   "execution_count": 6,
   "metadata": {},
   "outputs": [],
   "source": [
    "def encodeSeq(seq, seq_dic):\n",
    "    if pd.isnull(seq):\n",
    "        return [0]\n",
    "    else:\n",
    "        return [seq_dic[aa] for aa in seq]"
   ]
  },
  {
   "cell_type": "code",
   "execution_count": 7,
   "metadata": {},
   "outputs": [],
   "source": [
    "def padding_seq(x, max_len=2500):\n",
    "    if len(x) == 0:\n",
    "        return x\n",
    "    elif len(x) >= max_len:\n",
    "        return x[:max_len]\n",
    "    else:\n",
    "        return x + [0]*(max_len-len(x))"
   ]
  },
  {
   "cell_type": "code",
   "execution_count": 8,
   "metadata": {},
   "outputs": [],
   "source": [
    "def parse_data(dti_dir, prot_len=2500, drug_len=2048):\n",
    "\n",
    "    protein_col = \"protein\"\n",
    "    drug_col = \"compound\"\n",
    "    label_col = \"label\"\n",
    "    col_names = [protein_col, drug_col, label_col]\n",
    "    \n",
    "    dti_df = pd.read_csv(dti_dir, header=0)\n",
    "\n",
    "    dti_df[protein_col] = dti_df[protein_col].map(lambda a: encodeSeq(a, seq_dic))\n",
    "    \n",
    "    drug_feature = np.stack(dti_df[drug_col].map(\n",
    "        lambda sm: AllChem.GetMorganFingerprintAsBitVect(Chem.MolFromSmiles(sm),2,nBits=drug_len)\n",
    "    ))\n",
    "    drug_weight = np.stack(dti_df[drug_col].map(\n",
    "        lambda sm: rdMolDescriptors._CalcMolWt(Chem.MolFromSmiles(sm))\n",
    "    ))\n",
    "    \n",
    "    protein_feature = np.stack(dti_df[protein_col].map(padding_seq))\n",
    "    label = dti_df[label_col].values\n",
    "    \n",
    "    print(\"\\tPositive data : %d\" %(sum(dti_df[label_col])))\n",
    "    print(\"\\tNegative data : %d\" %(dti_df.shape[0] - sum(dti_df[label_col])))\n",
    "    \n",
    "    return {\"protein_feature\": protein_feature, \n",
    "            \"drug_feature\": drug_feature, \n",
    "            \"label\": label,\n",
    "            \"weight\": drug_weight\n",
    "            }"
   ]
  },
  {
   "cell_type": "code",
   "execution_count": 9,
   "metadata": {},
   "outputs": [
    {
     "name": "stderr",
     "output_type": "stream",
     "text": [
      "RDKit WARNING: [19:26:14] WARNING: not removing hydrogen atom without neighbors\n",
      "[19:26:14] WARNING: not removing hydrogen atom without neighbors\n",
      "RDKit WARNING: [19:26:15] WARNING: not removing hydrogen atom without neighbors\n",
      "[19:26:15] WARNING: not removing hydrogen atom without neighbors\n",
      "RDKit WARNING: [19:26:16] WARNING: not removing hydrogen atom without neighbors\n",
      "[19:26:16] WARNING: not removing hydrogen atom without neighbors\n",
      "RDKit WARNING: [19:26:16] WARNING: not removing hydrogen atom without neighbors\n",
      "[19:26:16] WARNING: not removing hydrogen atom without neighbors\n",
      "[19:26:16] WARNING: not removing hydrogen atom without neighbors\n",
      "RDKit WARNING: [19:26:16] WARNING: not removing hydrogen atom without neighbors\n",
      "RDKit WARNING: [19:26:16] WARNING: not removing hydrogen atom without neighbors\n",
      "[19:26:16] WARNING: not removing hydrogen atom without neighbors\n",
      "RDKit WARNING: [19:26:16] WARNING: not removing hydrogen atom without neighbors\n",
      "[19:26:16] WARNING: not removing hydrogen atom without neighbors\n",
      "RDKit WARNING: [19:26:16] WARNING: not removing hydrogen atom without neighbors\n",
      "[19:26:16] WARNING: not removing hydrogen atom without neighbors\n",
      "RDKit WARNING: [19:26:17] WARNING: not removing hydrogen atom without neighbors\n",
      "[19:26:17] WARNING: not removing hydrogen atom without neighbors\n",
      "RDKit WARNING: [19:26:17] WARNING: not removing hydrogen atom without neighbors\n",
      "[19:26:17] WARNING: not removing hydrogen atom without neighbors\n",
      "RDKit WARNING: [19:26:17] WARNING: not removing hydrogen atom without neighbors\n",
      "[19:26:17] WARNING: not removing hydrogen atom without neighbors\n",
      "[19:26:17] WARNING: not removing hydrogen atom without neighbors\n",
      "RDKit WARNING: [19:26:17] WARNING: not removing hydrogen atom without neighbors\n",
      "[19:26:17] WARNING: not removing hydrogen atom without neighbors\n",
      "RDKit WARNING: [19:26:17] WARNING: not removing hydrogen atom without neighbors\n",
      "RDKit WARNING: [19:26:18] WARNING: not removing hydrogen atom without neighbors\n",
      "[19:26:18] WARNING: not removing hydrogen atom without neighbors\n",
      "RDKit WARNING: [19:26:44] WARNING: not removing hydrogen atom without neighbors\n",
      "[19:26:44] WARNING: not removing hydrogen atom without neighbors\n",
      "[19:26:44] WARNING: not removing hydrogen atom without neighbors\n",
      "RDKit WARNING: [19:26:44] WARNING: not removing hydrogen atom without neighbors\n",
      "RDKit WARNING: [19:26:45] WARNING: not removing hydrogen atom without neighbors\n",
      "[19:26:45] WARNING: not removing hydrogen atom without neighbors\n",
      "RDKit WARNING: [19:26:45] WARNING: not removing hydrogen atom without neighbors\n",
      "[19:26:45] WARNING: not removing hydrogen atom without neighbors\n",
      "RDKit WARNING: [19:26:45] WARNING: not removing hydrogen atom without neighbors\n",
      "[19:26:45] WARNING: not removing hydrogen atom without neighbors\n",
      "RDKit WARNING: [19:26:45] WARNING: not removing hydrogen atom without neighbors\n",
      "RDKit WARNING: [19:26:45] WARNING: not removing hydrogen atom without neighbors\n",
      "[19:26:45] WARNING: not removing hydrogen atom without neighbors\n",
      "[19:26:45] WARNING: not removing hydrogen atom without neighbors\n",
      "RDKit WARNING: [19:26:45] WARNING: not removing hydrogen atom without neighbors\n",
      "[19:26:45] WARNING: not removing hydrogen atom without neighbors\n",
      "RDKit WARNING: [19:26:46] WARNING: not removing hydrogen atom without neighbors\n",
      "[19:26:46] WARNING: not removing hydrogen atom without neighbors\n",
      "RDKit WARNING: [19:26:46] WARNING: not removing hydrogen atom without neighbors\n",
      "[19:26:46] WARNING: not removing hydrogen atom without neighbors\n",
      "RDKit WARNING: [19:26:46] WARNING: not removing hydrogen atom without neighbors\n",
      "[19:26:46] WARNING: not removing hydrogen atom without neighbors\n",
      "RDKit WARNING: [19:26:46] WARNING: not removing hydrogen atom without neighbors\n",
      "[19:26:46] WARNING: not removing hydrogen atom without neighbors\n",
      "RDKit WARNING: [19:26:46] WARNING: not removing hydrogen atom without neighbors\n",
      "[19:26:46] WARNING: not removing hydrogen atom without neighbors\n",
      "[19:26:46] WARNING: not removing hydrogen atom without neighbors\n",
      "RDKit WARNING: [19:26:46] WARNING: not removing hydrogen atom without neighbors\n"
     ]
    },
    {
     "name": "stdout",
     "output_type": "stream",
     "text": [
      "\tPositive data : 3364\n",
      "\tNegative data : 3364\n"
     ]
    }
   ],
   "source": [
    "datas = parse_data(\n",
    "    \"../../data/maked/default/human.csv\",\n",
    ")"
   ]
  },
  {
   "cell_type": "code",
   "execution_count": 10,
   "metadata": {},
   "outputs": [],
   "source": [
    "class Net(torch.nn.Module):\n",
    "    def __init__(self):\n",
    "        super().__init__()\n",
    "        self.fc_drug = nn.Linear(2048, 64)\n",
    "        \n",
    "        self.conv1D = nn.Conv1d(in_channels=1, out_channels=64, kernel_size=128, stride=1, padding=0)\n",
    "        self.batch = nn.BatchNorm1d(64)\n",
    "        \n",
    "        self.fc_out = nn.Linear(128, 128)\n",
    "        self.fc_interaction = nn.Linear(128, 2)\n",
    "\n",
    "    def forward(self, drug, protein):\n",
    "        compound_vector = self.fc_drug(drug)\n",
    "        compound_vector = torch.relu(compound_vector)\n",
    "\n",
    "        protein = torch.unsqueeze(protein, 1)\n",
    "        protein_vector = self.conv1D(protein)\n",
    "        protein_vector = self.batch(protein_vector)\n",
    "        protein_vector = torch.relu(protein_vector)\n",
    "        \n",
    "        protein_vector = F.max_pool1d(protein_vector, kernel_size=2373)\n",
    "        protein_vector = torch.squeeze(protein_vector, 2)\n",
    "        \n",
    "        cat_vector = torch.cat((compound_vector, protein_vector), 1)\n",
    "        \n",
    "        for j in range(2):\n",
    "            cat_vector = torch.relu(self.fc_out(cat_vector))\n",
    "        out = self.fc_interaction(cat_vector)\n",
    "        return out"
   ]
  },
  {
   "cell_type": "code",
   "execution_count": 11,
   "metadata": {},
   "outputs": [
    {
     "name": "stdout",
     "output_type": "stream",
     "text": [
      "The code uses GPU...\n"
     ]
    }
   ],
   "source": [
    "if torch.cuda.is_available():\n",
    "    device = torch.device('cuda')\n",
    "    print('The code uses GPU...')\n",
    "else:\n",
    "    device = torch.device('cpu')\n",
    "    print('The code uses CPU!!!')"
   ]
  },
  {
   "cell_type": "code",
   "execution_count": 12,
   "metadata": {},
   "outputs": [],
   "source": [
    "model= Net().to(device)"
   ]
  },
  {
   "cell_type": "code",
   "execution_count": 13,
   "metadata": {},
   "outputs": [],
   "source": [
    "drug_dataset = torch.FloatTensor(datas[\"drug_feature\"])\n",
    "protein_dataset = torch.FloatTensor(datas[\"protein_feature\"])\n",
    "target_dataset = torch.LongTensor(datas[\"label\"])"
   ]
  },
  {
   "cell_type": "code",
   "execution_count": 14,
   "metadata": {},
   "outputs": [],
   "source": [
    "import torch.optim as optim\n",
    "optimizer = optim.SGD(model.parameters(), lr=0.01, momentum=0.9)"
   ]
  },
  {
   "cell_type": "code",
   "execution_count": 15,
   "metadata": {},
   "outputs": [],
   "source": [
    "dataset = torch.utils.data.TensorDataset(drug_dataset, protein_dataset, target_dataset)\n",
    "N = len(dataset)\n",
    "train_size = int(0.9 * N)\n",
    "test_size = N - train_size\n",
    "train_dataset, test_dataset = torch.utils.data.random_split(\n",
    "    dataset, [train_size, test_size]\n",
    ")"
   ]
  },
  {
   "cell_type": "code",
   "execution_count": 16,
   "metadata": {},
   "outputs": [],
   "source": [
    "\n",
    "train_loader = torch.utils.data.DataLoader(dataset=train_dataset, batch_size=32, shuffle=True)\n",
    "test_loader = torch.utils.data.DataLoader(dataset=test_dataset, batch_size=32, shuffle=True)"
   ]
  },
  {
   "cell_type": "code",
   "execution_count": 17,
   "metadata": {},
   "outputs": [
    {
     "name": "stdout",
     "output_type": "stream",
     "text": [
      "124.48527079820633\n",
      "116.2722233235836\n",
      "99.06899937987328\n",
      "86.06469029188156\n",
      "80.87032479047775\n",
      "76.97328686714172\n",
      "75.85367009043694\n",
      "74.31280264258385\n",
      "69.64795199036598\n",
      "69.13546362519264\n",
      "68.1599238216877\n",
      "67.45757111907005\n",
      "67.17061084508896\n",
      "67.78545519709587\n",
      "67.32498994469643\n",
      "67.99825528264046\n",
      "65.85328212380409\n",
      "67.18486088514328\n",
      "65.06361949443817\n",
      "64.9163729250431\n",
      "65.6147093474865\n",
      "64.13174310326576\n",
      "64.0649505853653\n",
      "64.95881590247154\n",
      "63.35362073779106\n",
      "63.27229779958725\n",
      "65.34714275598526\n",
      "66.23399412631989\n",
      "63.56633269786835\n",
      "64.42056247591972\n"
     ]
    }
   ],
   "source": [
    "\n",
    "for epoch in range(30):\n",
    "    loss_total = 0\n",
    "    for data in train_loader:\n",
    "        d, p, true_label = data\n",
    "        d, p, true_label  = d.to(device), p.to(device), true_label.to(device)\n",
    "\n",
    "        optimizer.zero_grad()\n",
    "        output = model(d, p)\n",
    "        predicted_label = nn.Softmax(dim=1)(output)\n",
    "        loss = F.cross_entropy( predicted_label, true_label)\n",
    "        loss.backward()\n",
    "        optimizer.step()\n",
    "        loss_total += loss.to('cpu').data.numpy()\n",
    "    print(loss_total)"
   ]
  },
  {
   "cell_type": "code",
   "execution_count": 20,
   "metadata": {},
   "outputs": [
    {
     "name": "stdout",
     "output_type": "stream",
     "text": [
      "0.9880679986986187\n"
     ]
    }
   ],
   "source": [
    "from sklearn.metrics import roc_auc_score\n",
    "pred_y, true_y = [], []\n",
    "for data in train_loader:\n",
    "    d, p, true_label = data\n",
    "    d, p, true_label  = d.to(device), p.to(device), true_label.to(device)\n",
    "    output = model(d, p)\n",
    "    predicted_label = nn.Softmax(dim=1)(output)[:,1].to('cpu').data.numpy().tolist()\n",
    "    pred_y += predicted_label\n",
    "    true_y += true_label.to('cpu').data.numpy().tolist()\n",
    "print(roc_auc_score(true_y, pred_y))"
   ]
  },
  {
   "cell_type": "code",
   "execution_count": 22,
   "metadata": {},
   "outputs": [
    {
     "name": "stdout",
     "output_type": "stream",
     "text": [
      "0.968127331553544\n"
     ]
    }
   ],
   "source": [
    "pred_y, true_y = [], []\n",
    "for data in test_loader:\n",
    "    d, p, true_label = data\n",
    "    d, p, true_label  = d.to(device), p.to(device), true_label.to(device)\n",
    "    output = model(d, p)\n",
    "    predicted_label = nn.Softmax(dim=1)(output)[:,1].to('cpu').data.numpy().tolist()\n",
    "    pred_y += predicted_label\n",
    "    true_y += true_label.to('cpu').data.numpy().tolist()\n",
    "print(roc_auc_score(true_y, pred_y))"
   ]
  },
  {
   "cell_type": "code",
   "execution_count": null,
   "metadata": {},
   "outputs": [],
   "source": []
  }
 ],
 "metadata": {
  "interpreter": {
   "hash": "1c8a2ce01946fc569c1a09c9b4b77c6cb39ea00399395c0b1868d5ff55caf205"
  },
  "kernelspec": {
   "display_name": "Python 3.8.10 64-bit ('py38': conda)",
   "language": "python",
   "name": "python3"
  },
  "language_info": {
   "codemirror_mode": {
    "name": "ipython",
    "version": 3
   },
   "file_extension": ".py",
   "mimetype": "text/x-python",
   "name": "python",
   "nbconvert_exporter": "python",
   "pygments_lexer": "ipython3",
   "version": "3.9.7"
  },
  "orig_nbformat": 4
 },
 "nbformat": 4,
 "nbformat_minor": 2
}
