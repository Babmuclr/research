{
 "cells": [
  {
   "cell_type": "markdown",
   "metadata": {},
   "source": [
    "# 自分でわかりやすいようにデータを整形する\n",
    "- 用いるデータ\n",
    "https://github.com/masashitsubaki/CPI_prediction\n",
    "で使われている、ヒトと線虫の化合物とタンパク質の相互作用に関するデータセット\n"
   ]
  },
  {
   "cell_type": "code",
   "execution_count": 1,
   "metadata": {},
   "outputs": [],
   "source": [
    "import numpy as np \n",
    "import pandas as pd"
   ]
  },
  {
   "cell_type": "code",
   "execution_count": 5,
   "metadata": {},
   "outputs": [],
   "source": [
    "# dataset\n",
    "# dataset_name = \"human\"\n",
    "dataset_name = \"celegans\"\n"
   ]
  },
  {
   "cell_type": "code",
   "execution_count": 6,
   "metadata": {},
   "outputs": [
    {
     "data": {
      "text/html": [
       "<div>\n",
       "<style scoped>\n",
       "    .dataframe tbody tr th:only-of-type {\n",
       "        vertical-align: middle;\n",
       "    }\n",
       "\n",
       "    .dataframe tbody tr th {\n",
       "        vertical-align: top;\n",
       "    }\n",
       "\n",
       "    .dataframe thead th {\n",
       "        text-align: right;\n",
       "    }\n",
       "</style>\n",
       "<table border=\"1\" class=\"dataframe\">\n",
       "  <thead>\n",
       "    <tr style=\"text-align: right;\">\n",
       "      <th></th>\n",
       "      <th>compound</th>\n",
       "      <th>protein</th>\n",
       "      <th>label</th>\n",
       "    </tr>\n",
       "  </thead>\n",
       "  <tbody>\n",
       "    <tr>\n",
       "      <th>0</th>\n",
       "      <td>CCC(=O)O</td>\n",
       "      <td>MSRALLFFVLAILALSAEARGPRVTDKVFFDMEIGGRPVGKIVIGL...</td>\n",
       "      <td>0</td>\n",
       "    </tr>\n",
       "    <tr>\n",
       "      <th>1</th>\n",
       "      <td>C1CN(CCC1(C2=CC=C(C=C2)Cl)O)CCCC(=O)C3=CC=C(C=...</td>\n",
       "      <td>MNDLQWPLLGLFSVLIILALFGNLLVCAAILWDRSLRKQPENLFLV...</td>\n",
       "      <td>1</td>\n",
       "    </tr>\n",
       "    <tr>\n",
       "      <th>2</th>\n",
       "      <td>CC(CC1=CC2=C(C=C1)OCO2)NC</td>\n",
       "      <td>MLRWHSVRRKQHQQLQAELSSGAASMLSAPESRRVSRSMSVKAPTA...</td>\n",
       "      <td>1</td>\n",
       "    </tr>\n",
       "    <tr>\n",
       "      <th>3</th>\n",
       "      <td>C1=CC(=CC=C1/C=C/C2=CC(=CC(=C2)O)O)O</td>\n",
       "      <td>MIKFLLFLAIAAATVISNAELAVPTASISAHVLDISGGSPAGGIQI...</td>\n",
       "      <td>1</td>\n",
       "    </tr>\n",
       "    <tr>\n",
       "      <th>4</th>\n",
       "      <td>COC(=O)C1=CC=CC=C1C(=O)OC</td>\n",
       "      <td>MTPKPNTTSPTNNLPLLSKDSPDIESLLILNPKVQDKANAVPSAVT...</td>\n",
       "      <td>0</td>\n",
       "    </tr>\n",
       "  </tbody>\n",
       "</table>\n",
       "</div>"
      ],
      "text/plain": [
       "                                            compound  \\\n",
       "0                                           CCC(=O)O   \n",
       "1  C1CN(CCC1(C2=CC=C(C=C2)Cl)O)CCCC(=O)C3=CC=C(C=...   \n",
       "2                          CC(CC1=CC2=C(C=C1)OCO2)NC   \n",
       "3               C1=CC(=CC=C1/C=C/C2=CC(=CC(=C2)O)O)O   \n",
       "4                          COC(=O)C1=CC=CC=C1C(=O)OC   \n",
       "\n",
       "                                             protein  label  \n",
       "0  MSRALLFFVLAILALSAEARGPRVTDKVFFDMEIGGRPVGKIVIGL...      0  \n",
       "1  MNDLQWPLLGLFSVLIILALFGNLLVCAAILWDRSLRKQPENLFLV...      1  \n",
       "2  MLRWHSVRRKQHQQLQAELSSGAASMLSAPESRRVSRSMSVKAPTA...      1  \n",
       "3  MIKFLLFLAIAAATVISNAELAVPTASISAHVLDISGGSPAGGIQI...      1  \n",
       "4  MTPKPNTTSPTNNLPLLSKDSPDIESLLILNPKVQDKANAVPSAVT...      0  "
      ]
     },
     "execution_count": 6,
     "metadata": {},
     "output_type": "execute_result"
    }
   ],
   "source": [
    "df = pd.read_csv(\"../../data/cpi-data/\" + dataset_name + \"/original/data.txt\", sep=\" \", header=None)\n",
    "df.rename(columns={\n",
    "    0: \"compound\",\n",
    "    1: \"protein\",\n",
    "    2: \"label\"\n",
    "}, inplace=True)\n",
    "df.head()"
   ]
  },
  {
   "cell_type": "code",
   "execution_count": 7,
   "metadata": {},
   "outputs": [],
   "source": [
    "df.to_csv(\"../../data/maked/default/\" + dataset_name + \".csv\", index=None)"
   ]
  },
  {
   "cell_type": "code",
   "execution_count": 8,
   "metadata": {},
   "outputs": [],
   "source": [
    "# df['compound_id'] = df['compound'].factorize()[0]\n",
    "# df['protein_id'] = df['protein'].factorize()[0]\n",
    "\n",
    "# df.head()"
   ]
  },
  {
   "cell_type": "code",
   "execution_count": 12,
   "metadata": {},
   "outputs": [
    {
     "data": {
      "text/plain": [
       "(2726, 2001)"
      ]
     },
     "execution_count": 12,
     "metadata": {},
     "output_type": "execute_result"
    }
   ],
   "source": [
    "# len(df[\"compound_id\"].unique()), len(df[\"protein_id\"].unique())\n"
   ]
  },
  {
   "cell_type": "code",
   "execution_count": 20,
   "metadata": {},
   "outputs": [],
   "source": []
  },
  {
   "cell_type": "code",
   "execution_count": null,
   "metadata": {},
   "outputs": [],
   "source": []
  }
 ],
 "metadata": {
  "interpreter": {
   "hash": "8d396b96c37022cc03b590fb7e0f59e9625b1a542a0cf65b03ce3992dff67545"
  },
  "kernelspec": {
   "display_name": "Python 3.9.7 64-bit ('compound': conda)",
   "language": "python",
   "name": "python3"
  },
  "language_info": {
   "codemirror_mode": {
    "name": "ipython",
    "version": 3
   },
   "file_extension": ".py",
   "mimetype": "text/x-python",
   "name": "python",
   "nbconvert_exporter": "python",
   "pygments_lexer": "ipython3",
   "version": "3.9.7"
  },
  "orig_nbformat": 4
 },
 "nbformat": 4,
 "nbformat_minor": 2
}
