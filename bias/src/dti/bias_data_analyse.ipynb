{
 "cells": [
  {
   "cell_type": "markdown",
   "metadata": {},
   "source": [
    "# バイアス付きのデータを作成する"
   ]
  },
  {
   "cell_type": "code",
   "execution_count": 2,
   "metadata": {},
   "outputs": [],
   "source": [
    "import numpy as np \n",
    "import pandas as pd\n",
    "import os \n",
    "import matplotlib.pyplot as plt "
   ]
  },
  {
   "cell_type": "code",
   "execution_count": 3,
   "metadata": {},
   "outputs": [],
   "source": [
    "# dataset\n",
    "# dataset_name = \"human\"\n",
    "dataset_name = \"celegans\""
   ]
  },
  {
   "cell_type": "code",
   "execution_count": 4,
   "metadata": {},
   "outputs": [
    {
     "data": {
      "text/html": [
       "<div>\n",
       "<style scoped>\n",
       "    .dataframe tbody tr th:only-of-type {\n",
       "        vertical-align: middle;\n",
       "    }\n",
       "\n",
       "    .dataframe tbody tr th {\n",
       "        vertical-align: top;\n",
       "    }\n",
       "\n",
       "    .dataframe thead th {\n",
       "        text-align: right;\n",
       "    }\n",
       "</style>\n",
       "<table border=\"1\" class=\"dataframe\">\n",
       "  <thead>\n",
       "    <tr style=\"text-align: right;\">\n",
       "      <th></th>\n",
       "      <th>compound</th>\n",
       "      <th>protein</th>\n",
       "      <th>label</th>\n",
       "    </tr>\n",
       "  </thead>\n",
       "  <tbody>\n",
       "    <tr>\n",
       "      <th>0</th>\n",
       "      <td>CCC(=O)O</td>\n",
       "      <td>MSRALLFFVLAILALSAEARGPRVTDKVFFDMEIGGRPVGKIVIGL...</td>\n",
       "      <td>0</td>\n",
       "    </tr>\n",
       "    <tr>\n",
       "      <th>1</th>\n",
       "      <td>C1CN(CCC1(C2=CC=C(C=C2)Cl)O)CCCC(=O)C3=CC=C(C=...</td>\n",
       "      <td>MNDLQWPLLGLFSVLIILALFGNLLVCAAILWDRSLRKQPENLFLV...</td>\n",
       "      <td>1</td>\n",
       "    </tr>\n",
       "    <tr>\n",
       "      <th>2</th>\n",
       "      <td>CC(CC1=CC2=C(C=C1)OCO2)NC</td>\n",
       "      <td>MLRWHSVRRKQHQQLQAELSSGAASMLSAPESRRVSRSMSVKAPTA...</td>\n",
       "      <td>1</td>\n",
       "    </tr>\n",
       "    <tr>\n",
       "      <th>3</th>\n",
       "      <td>C1=CC(=CC=C1/C=C/C2=CC(=CC(=C2)O)O)O</td>\n",
       "      <td>MIKFLLFLAIAAATVISNAELAVPTASISAHVLDISGGSPAGGIQI...</td>\n",
       "      <td>1</td>\n",
       "    </tr>\n",
       "    <tr>\n",
       "      <th>4</th>\n",
       "      <td>COC(=O)C1=CC=CC=C1C(=O)OC</td>\n",
       "      <td>MTPKPNTTSPTNNLPLLSKDSPDIESLLILNPKVQDKANAVPSAVT...</td>\n",
       "      <td>0</td>\n",
       "    </tr>\n",
       "  </tbody>\n",
       "</table>\n",
       "</div>"
      ],
      "text/plain": [
       "                                            compound  \\\n",
       "0                                           CCC(=O)O   \n",
       "1  C1CN(CCC1(C2=CC=C(C=C2)Cl)O)CCCC(=O)C3=CC=C(C=...   \n",
       "2                          CC(CC1=CC2=C(C=C1)OCO2)NC   \n",
       "3               C1=CC(=CC=C1/C=C/C2=CC(=CC(=C2)O)O)O   \n",
       "4                          COC(=O)C1=CC=CC=C1C(=O)OC   \n",
       "\n",
       "                                             protein  label  \n",
       "0  MSRALLFFVLAILALSAEARGPRVTDKVFFDMEIGGRPVGKIVIGL...      0  \n",
       "1  MNDLQWPLLGLFSVLIILALFGNLLVCAAILWDRSLRKQPENLFLV...      1  \n",
       "2  MLRWHSVRRKQHQQLQAELSSGAASMLSAPESRRVSRSMSVKAPTA...      1  \n",
       "3  MIKFLLFLAIAAATVISNAELAVPTASISAHVLDISGGSPAGGIQI...      1  \n",
       "4  MTPKPNTTSPTNNLPLLSKDSPDIESLLILNPKVQDKANAVPSAVT...      0  "
      ]
     },
     "execution_count": 4,
     "metadata": {},
     "output_type": "execute_result"
    }
   ],
   "source": [
    "df = pd.read_csv(\"../../data/maked/default/\" + dataset_name + \".csv\", header=0)\n",
    "df.head()"
   ]
  },
  {
   "cell_type": "code",
   "execution_count": 5,
   "metadata": {},
   "outputs": [
    {
     "data": {
      "text/html": [
       "<div>\n",
       "<style scoped>\n",
       "    .dataframe tbody tr th:only-of-type {\n",
       "        vertical-align: middle;\n",
       "    }\n",
       "\n",
       "    .dataframe tbody tr th {\n",
       "        vertical-align: top;\n",
       "    }\n",
       "\n",
       "    .dataframe thead th {\n",
       "        text-align: right;\n",
       "    }\n",
       "</style>\n",
       "<table border=\"1\" class=\"dataframe\">\n",
       "  <thead>\n",
       "    <tr style=\"text-align: right;\">\n",
       "      <th></th>\n",
       "      <th>compound</th>\n",
       "    </tr>\n",
       "  </thead>\n",
       "  <tbody>\n",
       "    <tr>\n",
       "      <th>0</th>\n",
       "      <td>CCC(=O)O</td>\n",
       "    </tr>\n",
       "    <tr>\n",
       "      <th>1</th>\n",
       "      <td>C1CN(CCC1(C2=CC=C(C=C2)Cl)O)CCCC(=O)C3=CC=C(C=...</td>\n",
       "    </tr>\n",
       "    <tr>\n",
       "      <th>2</th>\n",
       "      <td>CC(CC1=CC2=C(C=C1)OCO2)NC</td>\n",
       "    </tr>\n",
       "    <tr>\n",
       "      <th>3</th>\n",
       "      <td>C1=CC(=CC=C1/C=C/C2=CC(=CC(=C2)O)O)O</td>\n",
       "    </tr>\n",
       "    <tr>\n",
       "      <th>4</th>\n",
       "      <td>COC(=O)C1=CC=CC=C1C(=O)OC</td>\n",
       "    </tr>\n",
       "  </tbody>\n",
       "</table>\n",
       "</div>"
      ],
      "text/plain": [
       "                                            compound\n",
       "0                                           CCC(=O)O\n",
       "1  C1CN(CCC1(C2=CC=C(C=C2)Cl)O)CCCC(=O)C3=CC=C(C=...\n",
       "2                          CC(CC1=CC2=C(C=C1)OCO2)NC\n",
       "3               C1=CC(=CC=C1/C=C/C2=CC(=CC(=C2)O)O)O\n",
       "4                          COC(=O)C1=CC=CC=C1C(=O)OC"
      ]
     },
     "execution_count": 5,
     "metadata": {},
     "output_type": "execute_result"
    }
   ],
   "source": [
    "df_compound = pd.DataFrame(df[\"compound\"].unique(), columns=[\"compound\"])\n",
    "df_compound.head()"
   ]
  },
  {
   "cell_type": "code",
   "execution_count": 6,
   "metadata": {},
   "outputs": [],
   "source": [
    "# df_compound['compound_id'] = df_compound['compound'].factorize()[0]\n",
    "# df = pd.merge(df, df_compound, how=\"left\", on=\"compound\")\n",
    "# df.head()"
   ]
  },
  {
   "cell_type": "code",
   "execution_count": 7,
   "metadata": {},
   "outputs": [
    {
     "name": "stdout",
     "output_type": "stream",
     "text": [
      "全データ数: 7786, 正例数: 3893, 負例数: 3893\n"
     ]
    }
   ],
   "source": [
    "print(\"全データ数: {}, 正例数: {}, 負例数: {}\".format(len(df),df[\"label\"].sum(),len(df)-df[\"label\"].sum()))"
   ]
  },
  {
   "cell_type": "code",
   "execution_count": 8,
   "metadata": {},
   "outputs": [
    {
     "name": "stdout",
     "output_type": "stream",
     "text": [
      "化合物数: 1767, タンパク質数: 1876\n"
     ]
    }
   ],
   "source": [
    "print(\"化合物数: {}, タンパク質数: {}\".format(len(df[\"compound\"].unique()),len(df[\"protein\"].unique())))"
   ]
  },
  {
   "cell_type": "markdown",
   "metadata": {},
   "source": [
    "## SMILES形式のデータから分子量を計算する"
   ]
  },
  {
   "cell_type": "code",
   "execution_count": 9,
   "metadata": {},
   "outputs": [],
   "source": [
    "from rdkit import Chem\n",
    "from rdkit.Chem import AllChem\n",
    "from rdkit.Chem import rdMolDescriptors"
   ]
  },
  {
   "cell_type": "code",
   "execution_count": 10,
   "metadata": {},
   "outputs": [
    {
     "name": "stderr",
     "output_type": "stream",
     "text": [
      "RDKit WARNING: [14:47:50] WARNING: not removing hydrogen atom without neighbors\n",
      "[14:47:50] WARNING: not removing hydrogen atom without neighbors\n"
     ]
    },
    {
     "data": {
      "text/html": [
       "<div>\n",
       "<style scoped>\n",
       "    .dataframe tbody tr th:only-of-type {\n",
       "        vertical-align: middle;\n",
       "    }\n",
       "\n",
       "    .dataframe tbody tr th {\n",
       "        vertical-align: top;\n",
       "    }\n",
       "\n",
       "    .dataframe thead th {\n",
       "        text-align: right;\n",
       "    }\n",
       "</style>\n",
       "<table border=\"1\" class=\"dataframe\">\n",
       "  <thead>\n",
       "    <tr style=\"text-align: right;\">\n",
       "      <th></th>\n",
       "      <th>compound</th>\n",
       "      <th>weight</th>\n",
       "    </tr>\n",
       "  </thead>\n",
       "  <tbody>\n",
       "    <tr>\n",
       "      <th>0</th>\n",
       "      <td>CCC(=O)O</td>\n",
       "      <td>74.079</td>\n",
       "    </tr>\n",
       "    <tr>\n",
       "      <th>1</th>\n",
       "      <td>C1CN(CCC1(C2=CC=C(C=C2)Cl)O)CCCC(=O)C3=CC=C(C=...</td>\n",
       "      <td>375.871</td>\n",
       "    </tr>\n",
       "    <tr>\n",
       "      <th>2</th>\n",
       "      <td>CC(CC1=CC2=C(C=C1)OCO2)NC</td>\n",
       "      <td>193.246</td>\n",
       "    </tr>\n",
       "    <tr>\n",
       "      <th>3</th>\n",
       "      <td>C1=CC(=CC=C1/C=C/C2=CC(=CC(=C2)O)O)O</td>\n",
       "      <td>228.247</td>\n",
       "    </tr>\n",
       "    <tr>\n",
       "      <th>4</th>\n",
       "      <td>COC(=O)C1=CC=CC=C1C(=O)OC</td>\n",
       "      <td>194.186</td>\n",
       "    </tr>\n",
       "  </tbody>\n",
       "</table>\n",
       "</div>"
      ],
      "text/plain": [
       "                                            compound   weight\n",
       "0                                           CCC(=O)O   74.079\n",
       "1  C1CN(CCC1(C2=CC=C(C=C2)Cl)O)CCCC(=O)C3=CC=C(C=...  375.871\n",
       "2                          CC(CC1=CC2=C(C=C1)OCO2)NC  193.246\n",
       "3               C1=CC(=CC=C1/C=C/C2=CC(=CC(=C2)O)O)O  228.247\n",
       "4                          COC(=O)C1=CC=CC=C1C(=O)OC  194.186"
      ]
     },
     "execution_count": 10,
     "metadata": {},
     "output_type": "execute_result"
    }
   ],
   "source": [
    "df_compound[\"weight\"] = df_compound[\"compound\"].map(lambda sm: rdMolDescriptors._CalcMolWt(Chem.MolFromSmiles(sm)))\n",
    "df_compound.head()"
   ]
  },
  {
   "cell_type": "code",
   "execution_count": 11,
   "metadata": {},
   "outputs": [
    {
     "data": {
      "image/png": "[encoded data removed]",
      "text/plain": [
       "<Figure size 432x288 with 1 Axes>"
      ]
     },
     "metadata": {
      "needs_background": "light"
     },
     "output_type": "display_data"
    }
   ],
   "source": [
    "plt.hist(df_compound[\"weight\"].values, bins=100)\n",
    "plt.show()"
   ]
  },
  {
   "cell_type": "code",
   "execution_count": 12,
   "metadata": {},
   "outputs": [
    {
     "data": {
      "text/html": [
       "<div>\n",
       "<style scoped>\n",
       "    .dataframe tbody tr th:only-of-type {\n",
       "        vertical-align: middle;\n",
       "    }\n",
       "\n",
       "    .dataframe tbody tr th {\n",
       "        vertical-align: top;\n",
       "    }\n",
       "\n",
       "    .dataframe thead th {\n",
       "        text-align: right;\n",
       "    }\n",
       "</style>\n",
       "<table border=\"1\" class=\"dataframe\">\n",
       "  <thead>\n",
       "    <tr style=\"text-align: right;\">\n",
       "      <th></th>\n",
       "      <th>compound</th>\n",
       "      <th>weight</th>\n",
       "      <th>weight_norm</th>\n",
       "    </tr>\n",
       "  </thead>\n",
       "  <tbody>\n",
       "    <tr>\n",
       "      <th>0</th>\n",
       "      <td>CCC(=O)O</td>\n",
       "      <td>74.079</td>\n",
       "      <td>-1.373031</td>\n",
       "    </tr>\n",
       "    <tr>\n",
       "      <th>1</th>\n",
       "      <td>C1CN(CCC1(C2=CC=C(C=C2)Cl)O)CCCC(=O)C3=CC=C(C=...</td>\n",
       "      <td>375.871</td>\n",
       "      <td>0.694848</td>\n",
       "    </tr>\n",
       "    <tr>\n",
       "      <th>2</th>\n",
       "      <td>CC(CC1=CC2=C(C=C1)OCO2)NC</td>\n",
       "      <td>193.246</td>\n",
       "      <td>-0.556499</td>\n",
       "    </tr>\n",
       "    <tr>\n",
       "      <th>3</th>\n",
       "      <td>C1=CC(=CC=C1/C=C/C2=CC(=CC(=C2)O)O)O</td>\n",
       "      <td>228.247</td>\n",
       "      <td>-0.316672</td>\n",
       "    </tr>\n",
       "    <tr>\n",
       "      <th>4</th>\n",
       "      <td>COC(=O)C1=CC=CC=C1C(=O)OC</td>\n",
       "      <td>194.186</td>\n",
       "      <td>-0.550058</td>\n",
       "    </tr>\n",
       "  </tbody>\n",
       "</table>\n",
       "</div>"
      ],
      "text/plain": [
       "                                            compound   weight  weight_norm\n",
       "0                                           CCC(=O)O   74.079    -1.373031\n",
       "1  C1CN(CCC1(C2=CC=C(C=C2)Cl)O)CCCC(=O)C3=CC=C(C=...  375.871     0.694848\n",
       "2                          CC(CC1=CC2=C(C=C1)OCO2)NC  193.246    -0.556499\n",
       "3               C1=CC(=CC=C1/C=C/C2=CC(=CC(=C2)O)O)O  228.247    -0.316672\n",
       "4                          COC(=O)C1=CC=CC=C1C(=O)OC  194.186    -0.550058"
      ]
     },
     "execution_count": 12,
     "metadata": {},
     "output_type": "execute_result"
    }
   ],
   "source": [
    "df_compound[\"weight_norm\"] = (df_compound[\"weight\"] - df_compound[\"weight\"].mean()) / df_compound[\"weight\"].std()\n",
    "\n",
    "df_compound.head()"
   ]
  },
  {
   "cell_type": "code",
   "execution_count": 13,
   "metadata": {},
   "outputs": [
    {
     "data": {
      "image/png": "[encoded data removed]",
      "text/plain": [
       "<Figure size 432x288 with 1 Axes>"
      ]
     },
     "metadata": {},
     "output_type": "display_data"
    }
   ],
   "source": [
    "fig, ax = plt.subplots()\n",
    "fig.patch.set_facecolor('white')\n",
    "ax.set_title(\"Human Dataset\")\n",
    "ax.set_xlabel(\"Molecular Norm Weight\")\n",
    "ax.set_ylabel(\"Frequency\")\n",
    "ax.hist(df_compound[\"weight_norm\"].values, bins=100)\n",
    "plt.show()\n",
    "fig.savefig(\"human_norm_weight.png\")"
   ]
  },
  {
   "cell_type": "code",
   "execution_count": 24,
   "metadata": {},
   "outputs": [],
   "source": [
    "def sigmoid(x):\n",
    "    return 1.0 / (1.0 + np.exp(x+2))"
   ]
  },
  {
   "cell_type": "code",
   "execution_count": 25,
   "metadata": {},
   "outputs": [
    {
     "data": {
      "image/png": "[encoded data removed]",
      "text/plain": [
       "<Figure size 432x288 with 1 Axes>"
      ]
     },
     "metadata": {},
     "output_type": "display_data"
    }
   ],
   "source": [
    "x = np.arange(-5, 5, 0.1)\n",
    "y = list(map(sigmoid, x))\n",
    "\n",
    "fig, ax = plt.subplots()\n",
    "fig.patch.set_facecolor('white')\n",
    "ax.set_title(\"Human Dataset\")\n",
    "ax.set_xlabel(\"Molecular Norm Weight\")\n",
    "ax.set_ylabel(\"Probablity\")\n",
    "ax.plot(x,y)\n",
    "plt.show()\n",
    "fig.savefig(\"sigmoid2.png\")"
   ]
  },
  {
   "cell_type": "code",
   "execution_count": 119,
   "metadata": {},
   "outputs": [
    {
     "data": {
      "text/html": [
       "<div>\n",
       "<style scoped>\n",
       "    .dataframe tbody tr th:only-of-type {\n",
       "        vertical-align: middle;\n",
       "    }\n",
       "\n",
       "    .dataframe tbody tr th {\n",
       "        vertical-align: top;\n",
       "    }\n",
       "\n",
       "    .dataframe thead th {\n",
       "        text-align: right;\n",
       "    }\n",
       "</style>\n",
       "<table border=\"1\" class=\"dataframe\">\n",
       "  <thead>\n",
       "    <tr style=\"text-align: right;\">\n",
       "      <th></th>\n",
       "      <th>compound</th>\n",
       "      <th>weight</th>\n",
       "      <th>weight_norm</th>\n",
       "      <th>prob</th>\n",
       "    </tr>\n",
       "  </thead>\n",
       "  <tbody>\n",
       "    <tr>\n",
       "      <th>0</th>\n",
       "      <td>CCC(=O)O</td>\n",
       "      <td>74.079</td>\n",
       "      <td>-1.373031</td>\n",
       "      <td>0.797869</td>\n",
       "    </tr>\n",
       "    <tr>\n",
       "      <th>1</th>\n",
       "      <td>C1CN(CCC1(C2=CC=C(C=C2)Cl)O)CCCC(=O)C3=CC=C(C=...</td>\n",
       "      <td>375.871</td>\n",
       "      <td>0.694848</td>\n",
       "      <td>0.332956</td>\n",
       "    </tr>\n",
       "    <tr>\n",
       "      <th>2</th>\n",
       "      <td>CC(CC1=CC2=C(C=C1)OCO2)NC</td>\n",
       "      <td>193.246</td>\n",
       "      <td>-0.556499</td>\n",
       "      <td>0.635642</td>\n",
       "    </tr>\n",
       "    <tr>\n",
       "      <th>3</th>\n",
       "      <td>C1=CC(=CC=C1/C=C/C2=CC(=CC(=C2)O)O)O</td>\n",
       "      <td>228.247</td>\n",
       "      <td>-0.316672</td>\n",
       "      <td>0.578513</td>\n",
       "    </tr>\n",
       "    <tr>\n",
       "      <th>4</th>\n",
       "      <td>COC(=O)C1=CC=CC=C1C(=O)OC</td>\n",
       "      <td>194.186</td>\n",
       "      <td>-0.550058</td>\n",
       "      <td>0.634149</td>\n",
       "    </tr>\n",
       "  </tbody>\n",
       "</table>\n",
       "</div>"
      ],
      "text/plain": [
       "                                            compound   weight  weight_norm  \\\n",
       "0                                           CCC(=O)O   74.079    -1.373031   \n",
       "1  C1CN(CCC1(C2=CC=C(C=C2)Cl)O)CCCC(=O)C3=CC=C(C=...  375.871     0.694848   \n",
       "2                          CC(CC1=CC2=C(C=C1)OCO2)NC  193.246    -0.556499   \n",
       "3               C1=CC(=CC=C1/C=C/C2=CC(=CC(=C2)O)O)O  228.247    -0.316672   \n",
       "4                          COC(=O)C1=CC=CC=C1C(=O)OC  194.186    -0.550058   \n",
       "\n",
       "       prob  \n",
       "0  0.797869  \n",
       "1  0.332956  \n",
       "2  0.635642  \n",
       "3  0.578513  \n",
       "4  0.634149  "
      ]
     },
     "execution_count": 119,
     "metadata": {},
     "output_type": "execute_result"
    }
   ],
   "source": [
    "df_compound[\"prob\"] = df_compound[\"weight_norm\"].map(sigmoid)\n",
    "df_compound.head()"
   ]
  },
  {
   "cell_type": "code",
   "execution_count": 120,
   "metadata": {},
   "outputs": [
    {
     "data": {
      "image/png": "[encoded data removed]",
      "text/plain": [
       "<Figure size 432x288 with 1 Axes>"
      ]
     },
     "metadata": {
      "needs_background": "light"
     },
     "output_type": "display_data"
    }
   ],
   "source": [
    "plt.hist(df_compound[\"prob\"].values, bins=100)\n",
    "plt.show()"
   ]
  },
  {
   "cell_type": "code",
   "execution_count": null,
   "metadata": {},
   "outputs": [],
   "source": []
  },
  {
   "cell_type": "code",
   "execution_count": 121,
   "metadata": {},
   "outputs": [],
   "source": [
    "count_compound = df[\"compound\"].value_counts().to_dict()\n",
    "def counting(x):\n",
    "    return count_compound[x]"
   ]
  },
  {
   "cell_type": "code",
   "execution_count": 122,
   "metadata": {},
   "outputs": [
    {
     "data": {
      "text/html": [
       "<div>\n",
       "<style scoped>\n",
       "    .dataframe tbody tr th:only-of-type {\n",
       "        vertical-align: middle;\n",
       "    }\n",
       "\n",
       "    .dataframe tbody tr th {\n",
       "        vertical-align: top;\n",
       "    }\n",
       "\n",
       "    .dataframe thead th {\n",
       "        text-align: right;\n",
       "    }\n",
       "</style>\n",
       "<table border=\"1\" class=\"dataframe\">\n",
       "  <thead>\n",
       "    <tr style=\"text-align: right;\">\n",
       "      <th></th>\n",
       "      <th>compound</th>\n",
       "      <th>weight</th>\n",
       "      <th>weight_norm</th>\n",
       "      <th>prob</th>\n",
       "      <th>observed</th>\n",
       "      <th>observed_norm</th>\n",
       "    </tr>\n",
       "  </thead>\n",
       "  <tbody>\n",
       "    <tr>\n",
       "      <th>0</th>\n",
       "      <td>CCC(=O)O</td>\n",
       "      <td>74.079</td>\n",
       "      <td>-1.373031</td>\n",
       "      <td>0.797869</td>\n",
       "      <td>5</td>\n",
       "      <td>0.037131</td>\n",
       "    </tr>\n",
       "    <tr>\n",
       "      <th>1</th>\n",
       "      <td>C1CN(CCC1(C2=CC=C(C=C2)Cl)O)CCCC(=O)C3=CC=C(C=...</td>\n",
       "      <td>375.871</td>\n",
       "      <td>0.694848</td>\n",
       "      <td>0.332956</td>\n",
       "      <td>8</td>\n",
       "      <td>0.224770</td>\n",
       "    </tr>\n",
       "    <tr>\n",
       "      <th>2</th>\n",
       "      <td>CC(CC1=CC2=C(C=C1)OCO2)NC</td>\n",
       "      <td>193.246</td>\n",
       "      <td>-0.556499</td>\n",
       "      <td>0.635642</td>\n",
       "      <td>2</td>\n",
       "      <td>-0.150507</td>\n",
       "    </tr>\n",
       "    <tr>\n",
       "      <th>3</th>\n",
       "      <td>C1=CC(=CC=C1/C=C/C2=CC(=CC(=C2)O)O)O</td>\n",
       "      <td>228.247</td>\n",
       "      <td>-0.316672</td>\n",
       "      <td>0.578513</td>\n",
       "      <td>3</td>\n",
       "      <td>-0.087961</td>\n",
       "    </tr>\n",
       "    <tr>\n",
       "      <th>4</th>\n",
       "      <td>COC(=O)C1=CC=CC=C1C(=O)OC</td>\n",
       "      <td>194.186</td>\n",
       "      <td>-0.550058</td>\n",
       "      <td>0.634149</td>\n",
       "      <td>1</td>\n",
       "      <td>-0.213054</td>\n",
       "    </tr>\n",
       "  </tbody>\n",
       "</table>\n",
       "</div>"
      ],
      "text/plain": [
       "                                            compound   weight  weight_norm  \\\n",
       "0                                           CCC(=O)O   74.079    -1.373031   \n",
       "1  C1CN(CCC1(C2=CC=C(C=C2)Cl)O)CCCC(=O)C3=CC=C(C=...  375.871     0.694848   \n",
       "2                          CC(CC1=CC2=C(C=C1)OCO2)NC  193.246    -0.556499   \n",
       "3               C1=CC(=CC=C1/C=C/C2=CC(=CC(=C2)O)O)O  228.247    -0.316672   \n",
       "4                          COC(=O)C1=CC=CC=C1C(=O)OC  194.186    -0.550058   \n",
       "\n",
       "       prob  observed  observed_norm  \n",
       "0  0.797869         5       0.037131  \n",
       "1  0.332956         8       0.224770  \n",
       "2  0.635642         2      -0.150507  \n",
       "3  0.578513         3      -0.087961  \n",
       "4  0.634149         1      -0.213054  "
      ]
     },
     "execution_count": 122,
     "metadata": {},
     "output_type": "execute_result"
    }
   ],
   "source": [
    "df_compound[\"observed\"] = df_compound[\"compound\"].map(counting)\n",
    "df_compound[\"observed_norm\"] = (df_compound[\"observed\"] - df_compound[\"observed\"].mean()) / df_compound[\"observed\"].std()\n",
    "\n",
    "df_compound.head()"
   ]
  },
  {
   "cell_type": "code",
   "execution_count": 123,
   "metadata": {},
   "outputs": [
    {
     "data": {
      "image/png": "[encoded data removed]",
      "text/plain": [
       "<Figure size 432x288 with 1 Axes>"
      ]
     },
     "metadata": {
      "needs_background": "light"
     },
     "output_type": "display_data"
    }
   ],
   "source": [
    "weight = df_compound[\"weight\"].values\n",
    "observed = df_compound[\"observed\"].values\n",
    "plt.scatter(x=weight, y=observed)\n",
    "plt.xlabel(\"Molecular Weight\")\n",
    "plt.ylabel(\"Observed Times\")\n",
    "plt.title(\"Relation\")\n",
    "plt.show() "
   ]
  },
  {
   "cell_type": "code",
   "execution_count": 124,
   "metadata": {},
   "outputs": [],
   "source": [
    "li = []\n",
    "for i in range(50):\n",
    "    if i < 49:\n",
    "        df_new = df_compound[(df_compound[\"weight\"] < (i+1) * 20) & (i * 20 <= df_compound[\"weight\"])]\n",
    "    else:\n",
    "        df_new = df_compound[(i * 20 <= df_compound[\"weight\"])]\n",
    "    if 0 == len(df_new[\"observed\"].values):\n",
    "        m = 0\n",
    "    else:\n",
    "        m = np.sum(df_new[\"observed\"].values)\n",
    "    li.append(m)"
   ]
  },
  {
   "cell_type": "code",
   "execution_count": 126,
   "metadata": {},
   "outputs": [
    {
     "data": {
      "image/png": "[encoded data removed]",
      "text/plain": [
       "<Figure size 432x288 with 1 Axes>"
      ]
     },
     "metadata": {},
     "output_type": "display_data"
    }
   ],
   "source": [
    "fig, ax = plt.subplots()\n",
    "# Axesに棒グラフを追加\n",
    "ax.bar(range(len(li)), li)\n",
    "fig.patch.set_facecolor('white')\n",
    "ax.set_title(\"Celegan Dataset Average Links\")\n",
    "# ax.set_title(\"Human Dataset Sum Links\")\n",
    "ax.set_xlabel(\"Molecular Weight\")\n",
    "ax.set_ylabel(\"Sum Links\")\n",
    "fig.savefig(\"celegan_sum_links.png\")\n",
    "plt.show()"
   ]
  },
  {
   "cell_type": "code",
   "execution_count": null,
   "metadata": {},
   "outputs": [],
   "source": []
  }
 ],
 "metadata": {
  "interpreter": {
   "hash": "8d396b96c37022cc03b590fb7e0f59e9625b1a542a0cf65b03ce3992dff67545"
  },
  "kernelspec": {
   "display_name": "Python 3.9.7 64-bit ('compound': conda)",
   "language": "python",
   "name": "python3"
  },
  "language_info": {
   "codemirror_mode": {
    "name": "ipython",
    "version": 3
   },
   "file_extension": ".py",
   "mimetype": "text/x-python",
   "name": "python",
   "nbconvert_exporter": "python",
   "pygments_lexer": "ipython3",
   "version": "3.9.7"
  },
  "orig_nbformat": 4
 },
 "nbformat": 4,
 "nbformat_minor": 2
}
