{
 "cells": [
  {
   "cell_type": "code",
   "execution_count": null,
   "metadata": {},
   "outputs": [],
   "source": []
  },
  {
   "cell_type": "markdown",
   "metadata": {},
   "source": []
  },
  {
   "cell_type": "code",
   "execution_count": 1,
   "metadata": {},
   "outputs": [],
   "source": [
    "import numpy as np \n",
    "import pandas as pd "
   ]
  },
  {
   "cell_type": "code",
   "execution_count": 2,
   "metadata": {},
   "outputs": [],
   "source": [
    "import torch\n",
    "import torch.nn as nn\n",
    "import torch.nn.functional as F"
   ]
  },
  {
   "cell_type": "code",
   "execution_count": 3,
   "metadata": {},
   "outputs": [],
   "source": [
    "from rdkit import Chem\n",
    "from rdkit.Chem import AllChem\n",
    "from rdkit.Chem import rdMolDescriptors"
   ]
  },
  {
   "cell_type": "code",
   "execution_count": 4,
   "metadata": {},
   "outputs": [],
   "source": [
    "seq_rdic = ['A','I','L','V','F','W','Y','N','C','Q','M','S','T','D','E','R','H','K','G','P','O','U','X','B','Z']\n",
    "seq_dic = {w: i+1 for i, w in enumerate(seq_rdic)}"
   ]
  },
  {
   "cell_type": "code",
   "execution_count": 5,
   "metadata": {},
   "outputs": [],
   "source": [
    "def encodeSeq(seq, seq_dic):\n",
    "    if pd.isnull(seq):\n",
    "        return [0]\n",
    "    else:\n",
    "        return [seq_dic[aa] for aa in seq]"
   ]
  },
  {
   "cell_type": "code",
   "execution_count": 6,
   "metadata": {},
   "outputs": [],
   "source": [
    "def padding_seq(x, max_len=2500):\n",
    "    if len(x) == 0:\n",
    "        return x\n",
    "    elif len(x) >= max_len:\n",
    "        return x[:max_len]\n",
    "    else:\n",
    "        return x + [0]*(max_len-len(x))"
   ]
  },
  {
   "cell_type": "code",
   "execution_count": 7,
   "metadata": {},
   "outputs": [],
   "source": [
    "def parse_data(dti_dir, prot_len=2500, drug_len=2048, is_train=True):\n",
    "\n",
    "    protein_col = \"protein\"\n",
    "    drug_col = \"compound\"\n",
    "    label_col = \"label\"\n",
    "    weight_col = \"weight\"\n",
    "    col_names = [protein_col, drug_col, label_col, weight_col]\n",
    "    \n",
    "    dti_df = pd.read_csv(dti_dir, header=0)\n",
    "\n",
    "    dti_df[protein_col] = dti_df[protein_col].map(lambda a: encodeSeq(a, seq_dic))\n",
    "    \n",
    "    drug_feature = np.stack(dti_df[drug_col].map(\n",
    "        lambda sm: AllChem.GetMorganFingerprintAsBitVect(Chem.MolFromSmiles(sm),2,nBits=drug_len)\n",
    "    ))\n",
    "    \n",
    "    protein_feature = np.stack(dti_df[protein_col].map(padding_seq))\n",
    "    label = dti_df[label_col].values\n",
    "    if is_train:\n",
    "        weight = dti_df[weight_col].values\n",
    "    \n",
    "    print(\"\\tPositive data : %d\" %(sum(dti_df[label_col])))\n",
    "    print(\"\\tNegative data : %d\" %(dti_df.shape[0] - sum(dti_df[label_col])))\n",
    "    \n",
    "    if is_train:\n",
    "        return {\"protein_feature\": protein_feature, \n",
    "            \"drug_feature\": drug_feature, \n",
    "            \"label\": label,\n",
    "            \"weight\": weight,\n",
    "            }\n",
    "    else:\n",
    "        return {\"protein_feature\": protein_feature, \n",
    "            \"drug_feature\": drug_feature, \n",
    "            \"label\": label,\n",
    "            }"
   ]
  },
  {
   "cell_type": "code",
   "execution_count": 8,
   "metadata": {},
   "outputs": [
    {
     "name": "stderr",
     "output_type": "stream",
     "text": [
      "RDKit WARNING: [14:54:43] WARNING: not removing hydrogen atom without neighbors\n",
      "[14:54:43] WARNING: not removing hydrogen atom without neighbors\n",
      "[14:54:44] WARNING: not removing hydrogen atom without neighbors\n",
      "RDKit WARNING: [14:54:44] WARNING: not removing hydrogen atom without neighbors\n",
      "[14:54:44] WARNING: not removing hydrogen atom without neighbors\n",
      "RDKit WARNING: [14:54:44] WARNING: not removing hydrogen atom without neighbors\n",
      "[14:54:44] WARNING: not removing hydrogen atom without neighbors\n",
      "RDKit WARNING: [14:54:44] WARNING: not removing hydrogen atom without neighbors\n",
      "RDKit WARNING: [14:54:45] WARNING: not removing hydrogen atom without neighbors\n",
      "[14:54:45] WARNING: not removing hydrogen atom without neighbors\n",
      "RDKit WARNING: [14:54:45] WARNING: not removing hydrogen atom without neighbors\n",
      "[14:54:45] WARNING: not removing hydrogen atom without neighbors\n",
      "[14:54:45] WARNING: not removing hydrogen atom without neighbors\n",
      "RDKit WARNING: [14:54:45] WARNING: not removing hydrogen atom without neighbors\n"
     ]
    },
    {
     "name": "stdout",
     "output_type": "stream",
     "text": [
      "\tPositive data : 1876\n",
      "\tNegative data : 1496\n"
     ]
    },
    {
     "name": "stderr",
     "output_type": "stream",
     "text": [
      "RDKit WARNING: [14:55:08] WARNING: not removing hydrogen atom without neighbors\n",
      "[14:55:08] WARNING: not removing hydrogen atom without neighbors\n",
      "RDKit WARNING: [14:55:08] WARNING: not removing hydrogen atom without neighbors\n",
      "[14:55:08] WARNING: not removing hydrogen atom without neighbors\n",
      "RDKit WARNING: [14:55:08] WARNING: not removing hydrogen atom without neighbors\n",
      "[14:55:08] WARNING: not removing hydrogen atom without neighbors\n",
      "RDKit WARNING: [14:55:08] WARNING: not removing hydrogen atom without neighbors\n",
      "[14:55:08] WARNING: not removing hydrogen atom without neighbors\n"
     ]
    },
    {
     "name": "stdout",
     "output_type": "stream",
     "text": [
      "\tPositive data : 331\n",
      "\tNegative data : 341\n"
     ]
    }
   ],
   "source": [
    "train_datas = parse_data(\"../../data/maked/bias/train_human.csv\")\n",
    "test_datas = parse_data(\"../../data/maked/bias/test_human.csv\", is_train=False)"
   ]
  },
  {
   "cell_type": "code",
   "execution_count": 9,
   "metadata": {},
   "outputs": [],
   "source": [
    "class Net(torch.nn.Module):\n",
    "    def __init__(self):\n",
    "        super().__init__()\n",
    "        self.fc_drug = nn.Linear(2048, 64)\n",
    "        \n",
    "        self.conv1D = nn.Conv1d(in_channels=1, out_channels=64, kernel_size=128, stride=1, padding=0)\n",
    "        self.batch = nn.BatchNorm1d(64)\n",
    "        \n",
    "        self.fc_out = nn.Linear(128, 128)\n",
    "        self.fc_interaction = nn.Linear(128, 2)\n",
    "\n",
    "    def forward(self, drug, protein):\n",
    "        compound_vector = self.fc_drug(drug)\n",
    "        compound_vector = torch.relu(compound_vector)\n",
    "\n",
    "        protein = torch.unsqueeze(protein, 1)\n",
    "        protein_vector = self.conv1D(protein)\n",
    "        protein_vector = self.batch(protein_vector)\n",
    "        protein_vector = torch.relu(protein_vector)\n",
    "        \n",
    "        protein_vector = F.max_pool1d(protein_vector, kernel_size=2373)\n",
    "        protein_vector = torch.squeeze(protein_vector, 2)\n",
    "        \n",
    "        cat_vector = torch.cat((compound_vector, protein_vector), 1)\n",
    "        \n",
    "        for j in range(2):\n",
    "            cat_vector = torch.relu(self.fc_out(cat_vector))\n",
    "        out = self.fc_interaction(cat_vector)\n",
    "        return out"
   ]
  },
  {
   "cell_type": "code",
   "execution_count": 10,
   "metadata": {},
   "outputs": [
    {
     "name": "stdout",
     "output_type": "stream",
     "text": [
      "The code uses GPU...\n"
     ]
    }
   ],
   "source": [
    "if torch.cuda.is_available():\n",
    "    device = torch.device('cuda:1')\n",
    "    print('The code uses GPU...')\n",
    "else:\n",
    "    device = torch.device('cpu')\n",
    "    print('The code uses CPU!!!')"
   ]
  },
  {
   "cell_type": "code",
   "execution_count": 11,
   "metadata": {},
   "outputs": [],
   "source": [
    "model= Net().to(device)"
   ]
  },
  {
   "cell_type": "code",
   "execution_count": 12,
   "metadata": {},
   "outputs": [],
   "source": [
    "train_drug_dataset = torch.FloatTensor(train_datas[\"drug_feature\"])\n",
    "train_protein_dataset = torch.FloatTensor(train_datas[\"protein_feature\"])\n",
    "train_weight_dataset = torch.FloatTensor(train_datas[\"weight\"])\n",
    "train_target_dataset = torch.LongTensor(train_datas[\"label\"])"
   ]
  },
  {
   "cell_type": "code",
   "execution_count": 13,
   "metadata": {},
   "outputs": [],
   "source": [
    "test_drug_dataset = torch.FloatTensor(test_datas[\"drug_feature\"])\n",
    "test_protein_dataset = torch.FloatTensor(test_datas[\"protein_feature\"])\n",
    "test_target_dataset = torch.LongTensor(test_datas[\"label\"])"
   ]
  },
  {
   "cell_type": "code",
   "execution_count": 14,
   "metadata": {},
   "outputs": [],
   "source": [
    "import torch.optim as optim\n",
    "optimizer = optim.SGD(model.parameters(), lr=0.001, momentum=0.9)"
   ]
  },
  {
   "cell_type": "code",
   "execution_count": 15,
   "metadata": {},
   "outputs": [],
   "source": [
    "train_dataset = torch.utils.data.TensorDataset(train_drug_dataset, train_protein_dataset, train_weight_dataset, train_target_dataset)\n",
    "test_dataset = torch.utils.data.TensorDataset(test_drug_dataset, test_protein_dataset, test_target_dataset)\n",
    "\n",
    "N = len(train_dataset)\n",
    "train_size = int(0.8 * N)\n",
    "val_size = N - train_size\n",
    "train_dataset, val_dataset = torch.utils.data.random_split(\n",
    "    train_dataset, [train_size, val_size]\n",
    ")"
   ]
  },
  {
   "cell_type": "code",
   "execution_count": 16,
   "metadata": {},
   "outputs": [],
   "source": [
    "\n",
    "train_loader = torch.utils.data.DataLoader(dataset=train_dataset, batch_size=32, shuffle=True)\n",
    "val_loader = torch.utils.data.DataLoader(dataset=val_dataset, batch_size=32, shuffle=True)\n",
    "test_loader = torch.utils.data.DataLoader(dataset=test_dataset, batch_size=32, shuffle=True)"
   ]
  },
  {
   "cell_type": "code",
   "execution_count": 17,
   "metadata": {},
   "outputs": [],
   "source": [
    "import warnings\n",
    "warnings.simplefilter('ignore')"
   ]
  },
  {
   "cell_type": "code",
   "execution_count": 18,
   "metadata": {},
   "outputs": [
    {
     "name": "stdout",
     "output_type": "stream",
     "text": [
      "epoch: 0, loss: 58.33210211992264, AUC: 0.6153784348385023\n",
      "epoch: 1, loss: 58.02441984415054, AUC: 0.6400539218311997\n",
      "epoch: 2, loss: 57.74969136714935, AUC: 0.6542396486153517\n",
      "epoch: 3, loss: 57.37067764997482, AUC: 0.6702644312318102\n",
      "epoch: 4, loss: 57.07529801130295, AUC: 0.6918153088006858\n",
      "epoch: 5, loss: 56.35290628671646, AUC: 0.7069919831449639\n",
      "epoch: 6, loss: 55.57731181383133, AUC: 0.7319710036245468\n",
      "epoch: 7, loss: 54.727479696273804, AUC: 0.7521738354134304\n",
      "epoch: 8, loss: 53.57060194015503, AUC: 0.7829378470548325\n",
      "epoch: 9, loss: 52.63590854406357, AUC: 0.7859821093791848\n",
      "epoch: 10, loss: 51.44169479608536, AUC: 0.8068455728748193\n",
      "epoch: 11, loss: 50.056729316711426, AUC: 0.8256735765172211\n",
      "epoch: 12, loss: 48.787674367427826, AUC: 0.8303337082864641\n",
      "epoch: 13, loss: 46.33766096830368, AUC: 0.8444747977931331\n",
      "epoch: 14, loss: 44.97225919365883, AUC: 0.8452425589658434\n",
      "epoch: 15, loss: 43.38425889611244, AUC: 0.8522149017087148\n",
      "epoch: 16, loss: 42.30606338381767, AUC: 0.8549913403681684\n",
      "epoch: 17, loss: 42.45084631443024, AUC: 0.8584730480118556\n",
      "epoch: 18, loss: 39.60811775922775, AUC: 0.8628742835716965\n",
      "epoch: 19, loss: 38.052141189575195, AUC: 0.8661774421054511\n",
      "epoch: 20, loss: 36.713684409856796, AUC: 0.8664363383148536\n",
      "epoch: 21, loss: 36.091956615448, AUC: 0.8707661542307212\n",
      "epoch: 22, loss: 35.39129349589348, AUC: 0.874506758083811\n",
      "epoch: 23, loss: 34.955809593200684, AUC: 0.8750513328691057\n",
      "epoch: 24, loss: 34.004465609788895, AUC: 0.8796311175388791\n",
      "epoch: 25, loss: 33.47252732515335, AUC: 0.8763815237381041\n",
      "epoch: 26, loss: 33.334042608737946, AUC: 0.876970735800882\n",
      "epoch: 27, loss: 32.933733373880386, AUC: 0.8763904511936009\n",
      "epoch: 28, loss: 32.736969977617264, AUC: 0.8806399200099987\n",
      "epoch: 29, loss: 32.330795884132385, AUC: 0.8804524434445694\n",
      "epoch: 30, loss: 32.24149924516678, AUC: 0.8799167961147715\n"
     ]
    }
   ],
   "source": [
    "from sklearn.metrics import roc_auc_score\n",
    "scores = []\n",
    "for epoch in range(1000):\n",
    "    loss_total = 0\n",
    "    for data in train_loader:\n",
    "        d, p, w, true_label = data\n",
    "        d, p, w, true_label  = d.to(device), p.to(device), w.to(device), true_label.to(device)\n",
    "\n",
    "        optimizer.zero_grad()\n",
    "        output = model(d, p)\n",
    "        predicted_label = nn.Softmax(dim=1)(output)\n",
    "        loss = torch.mean(F.cross_entropy( predicted_label, true_label, reduce='none'))\n",
    "        loss.backward()\n",
    "        optimizer.step()\n",
    "        loss_total += loss.to('cpu').data.numpy()\n",
    "    pred_y, true_y = [], []\n",
    "    for data in val_loader:\n",
    "        d, p, w, true_label = data\n",
    "        d, p, w, true_label  = d.to(device), p.to(device), w.to(device), true_label.to(device)\n",
    "        output = model(d, p)\n",
    "        predicted_label = nn.Softmax(dim=1)(output)[:,1].to('cpu').data.numpy().tolist()\n",
    "        pred_y += predicted_label\n",
    "        true_y += true_label.to('cpu').data.numpy().tolist()\n",
    "    score = roc_auc_score(true_y, pred_y)\n",
    "    if epoch > 10:\n",
    "        if np.mean(scores[-10:]) > score:\n",
    "            scores.append(score)\n",
    "            break\n",
    "    scores.append(score)\n",
    "\n",
    "    print(\"epoch: {}, loss: {}, AUC: {}\".format(epoch, loss_total, score))"
   ]
  },
  {
   "cell_type": "code",
   "execution_count": 19,
   "metadata": {},
   "outputs": [
    {
     "name": "stdout",
     "output_type": "stream",
     "text": [
      "0.9743134352444921\n"
     ]
    }
   ],
   "source": [
    "pred_y, true_y = [], []\n",
    "for data in train_loader:\n",
    "    d, p, w, true_label = data\n",
    "    d, p, w, true_label  = d.to(device), p.to(device), w.to(device), true_label.to(device)\n",
    "\n",
    "    output = model(d, p)\n",
    "    predicted_label = nn.Softmax(dim=1)(output)[:,1].to('cpu').data.numpy().tolist()\n",
    "    pred_y += predicted_label\n",
    "    true_y += true_label.to('cpu').data.numpy().tolist()\n",
    "print(roc_auc_score(true_y, pred_y))"
   ]
  },
  {
   "cell_type": "code",
   "execution_count": 20,
   "metadata": {},
   "outputs": [
    {
     "name": "stdout",
     "output_type": "stream",
     "text": [
      "0.8779884657274984\n"
     ]
    }
   ],
   "source": [
    "pred_y, true_y = [], []\n",
    "for data in val_loader:\n",
    "    d, p, w, true_label = data\n",
    "    d, p, w, true_label  = d.to(device), p.to(device), w.to(device), true_label.to(device)\n",
    "\n",
    "    output = model(d, p)\n",
    "    predicted_label = nn.Softmax(dim=1)(output)[:,1].to('cpu').data.numpy().tolist()\n",
    "    pred_y += predicted_label\n",
    "    true_y += true_label.to('cpu').data.numpy().tolist()\n",
    "print(roc_auc_score(true_y, pred_y))"
   ]
  },
  {
   "cell_type": "code",
   "execution_count": 21,
   "metadata": {},
   "outputs": [
    {
     "name": "stdout",
     "output_type": "stream",
     "text": [
      "0.8761417901852557\n"
     ]
    }
   ],
   "source": [
    "pred_y, true_y = [], []\n",
    "for data in test_loader:\n",
    "    d, p, true_label = data\n",
    "    d, p, true_label  = d.to(device), p.to(device), true_label.to(device)\n",
    "    output = model(d, p)\n",
    "    predicted_label = nn.Softmax(dim=1)(output)[:,1].to('cpu').data.numpy().tolist()\n",
    "    pred_y += predicted_label\n",
    "    true_y += true_label.to('cpu').data.numpy().tolist()\n",
    "print(roc_auc_score(true_y, pred_y))"
   ]
  },
  {
   "cell_type": "code",
   "execution_count": null,
   "metadata": {},
   "outputs": [],
   "source": []
  },
  {
   "cell_type": "code",
   "execution_count": null,
   "metadata": {},
   "outputs": [],
   "source": []
  }
 ],
 "metadata": {
  "interpreter": {
   "hash": "1c8a2ce01946fc569c1a09c9b4b77c6cb39ea00399395c0b1868d5ff55caf205"
  },
  "kernelspec": {
   "display_name": "Python 3.8.10 64-bit ('py38': conda)",
   "language": "python",
   "name": "python3"
  },
  "language_info": {
   "codemirror_mode": {
    "name": "ipython",
    "version": 3
   },
   "file_extension": ".py",
   "mimetype": "text/x-python",
   "name": "python",
   "nbconvert_exporter": "python",
   "pygments_lexer": "ipython3",
   "version": "3.9.7"
  },
  "orig_nbformat": 4
 },
 "nbformat": 4,
 "nbformat_minor": 2
}
