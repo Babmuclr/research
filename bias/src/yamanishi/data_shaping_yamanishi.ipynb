{
 "cells": [
  {
   "cell_type": "markdown",
   "metadata": {},
   "source": [
    "# データを整形する\n",
    "Prediction of drug-target interaction networks from the integration of chemical and genomic spacesの論文におけるデータを用いる。\n",
    "\n",
    "下記のURLで(http://web.kuicr.kyoto-u.ac.jp/supp/yoshi/drugtarget/)、データは取得可能である。"
   ]
  },
  {
   "cell_type": "markdown",
   "metadata": {},
   "source": [
    "## データの構成\n",
    "データは主に、4つある。それぞれ、化合物と反応する何かである。\n",
    "- Drug-Enzyme（薬と酵素）\n",
    "- Drug-GCPR（薬とタンパク質）\n",
    "- Drug-IonChannel（薬とイオンチャネル）\n",
    "- Drug-NuclearReceptor（薬と核内受容体）\n"
   ]
  },
  {
   "cell_type": "code",
   "execution_count": 1,
   "metadata": {},
   "outputs": [],
   "source": [
    "import numpy as np \n",
    "import pandas as pd \n",
    "import matplotlib.pyplot as plt "
   ]
  },
  {
   "cell_type": "code",
   "execution_count": 5,
   "metadata": {},
   "outputs": [],
   "source": [
    "# File path definition\n",
    "FILE_PATH_DRUG_E = \"../../data/yamanishi/bind_orfhsa_drug_e.txt\"\n",
    "FILE_PATH_DRUG_GCPR = \"../../data/yamanishi/bind_orfhsa_drug_gcpr.txt\"\n",
    "FILE_PATH_DRUG_IC = \"../../data/yamanishi/bind_orfhsa_drug_ic.txt\"\n",
    "FILE_PATH_DRUG_NR = \"../../data/yamanishi/bind_orfhsa_drug_nr.txt\""
   ]
  },
  {
   "cell_type": "code",
   "execution_count": 3,
   "metadata": {},
   "outputs": [],
   "source": [
    "def cut_one_data(x):\n",
    "    x = x.replace(\"\\n\", \"\")\n",
    "    x = list(x.split(\"\\t\"))\n",
    "    return x"
   ]
  },
  {
   "cell_type": "code",
   "execution_count": 6,
   "metadata": {},
   "outputs": [
    {
     "data": {
      "text/plain": [
       "['hsa:10', 'D00002']"
      ]
     },
     "execution_count": 6,
     "metadata": {},
     "output_type": "execute_result"
    }
   ],
   "source": [
    "with open(FILE_PATH_DRUG_E, mode=\"r\") as f:\n",
    "    li_drug_e = f.readlines()\n",
    "li_drug_e = list(map(cut_one_data,li_drug_e))\n",
    "li_drug_e[0]"
   ]
  },
  {
   "cell_type": "code",
   "execution_count": 7,
   "metadata": {},
   "outputs": [
    {
     "data": {
      "text/plain": [
       "2926"
      ]
     },
     "execution_count": 7,
     "metadata": {},
     "output_type": "execute_result"
    }
   ],
   "source": [
    "len(li_drug_e)"
   ]
  },
  {
   "cell_type": "markdown",
   "metadata": {},
   "source": [
    "# 化合物とタンパク質の情報がない\n",
    "-> どうやって取ってくるかがわからない。。。"
   ]
  },
  {
   "cell_type": "code",
   "execution_count": null,
   "metadata": {},
   "outputs": [],
   "source": []
  }
 ],
 "metadata": {
  "interpreter": {
   "hash": "8d396b96c37022cc03b590fb7e0f59e9625b1a542a0cf65b03ce3992dff67545"
  },
  "kernelspec": {
   "display_name": "Python 3.9.7 64-bit ('compound': conda)",
   "language": "python",
   "name": "python3"
  },
  "language_info": {
   "codemirror_mode": {
    "name": "ipython",
    "version": 3
   },
   "file_extension": ".py",
   "mimetype": "text/x-python",
   "name": "python",
   "nbconvert_exporter": "python",
   "pygments_lexer": "ipython3",
   "version": "3.9.7"
  },
  "orig_nbformat": 4
 },
 "nbformat": 4,
 "nbformat_minor": 2
}
